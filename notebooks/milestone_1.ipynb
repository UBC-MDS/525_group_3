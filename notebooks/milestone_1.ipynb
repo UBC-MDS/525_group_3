{
 "cells": [
  {
   "cell_type": "markdown",
   "metadata": {},
   "source": [
    "# DSCI 525 - Web and Cloud Computing\n",
    "\n",
    "## Milestone 1: Tackling big data on your laptop\n",
    "\n",
    "## Overall project goal and data \n",
    "\n",
    "During this course, you will be working on a team project involving big data. The purpose is to get exposure to working with much larger datasets than you have previously in MDS. You have been assigned to teams of three or four. (See group assignment in [Canvas](https://canvas.ubc.ca/courses/106517). Unlike previous project courses, in this course, all of you will be working on **the same problem**. In particular, you will be building and deploying ensemble machine learning models in the cloud to predict daily rainfall in Australia on a large dataset (~6 GB), where features are outputs of different climate models, and the target is the actual rainfall observation.  \n",
    "\n",
    "You will be using [this dataset on figshare](https://figshare.com/articles/dataset/Daily_rainfall_over_NSW_Australia/14096681). This folder has the output of different climate models as features, and our ultimate goal is to build an ensemble model on these outputs and compare the results with the actual rainfall. At the end of the project, you should have your ML model deployed in the cloud for others to use. \n",
    "\n",
    "During this course, you will work towards this goal step by step in four milestones.  \n",
    "\n",
    "<br><br>\n",
    "\n",
    "## Milestone 1 checklist  \n",
    "\n",
    "\n",
    "\n",
    "### 1. Team-work contract\n",
    "rubric={correctness:10}\n",
    "\n",
    "Similar to what you did in DSCI 522 and DSCI 524, create a teamwork contract. The contract should outline how you are committed to working together so that you are accountable to one another. Again, you may start with your team contract document from previous project courses and adapt it to your new team. It is a fairly personal document, and please do not push it into your public repositories. Instead, save it somewhere your team can easily share it, and you can share a link to it or a copy with us in your submission to Canvas to prove you did this.\n",
    "\n",
    "### 2. Creating a repository and project structure \n",
    "rubric={mechanics:10}\n",
    "\n",
    "1. Similar to previous project courses, create a public repository under [UBC-MDS org](https://github.com/UBC-MDS) for your project. \n",
    "2. Write a brief introduction of the project in the `README`. \n",
    "3. Create a folder called `notebooks` in the repository and create a notebook for this milestone in that folder."
   ]
  },
  {
   "cell_type": "code",
   "execution_count": 1,
   "metadata": {},
   "outputs": [],
   "source": [
    "import re\n",
    "import os\n",
    "import glob\n",
    "import zipfile\n",
    "import requests\n",
    "from urllib.request import urlretrieve\n",
    "import json\n",
    "import pandas as pd\n",
    "from IPython.display import display\n",
    "import pyarrow.dataset as ds\n",
    "import pyarrow as pa\n",
    "from pyarrow import csv\n",
    "import rpy2_arrow.pyarrow_rarrow as pyra"
   ]
  },
  {
   "cell_type": "markdown",
   "metadata": {},
   "source": [
    "### 3. Downloading the data \n",
    "rubric={correctness:10}\n",
    "\n",
    "1. Download the data from [figshare](https://figshare.com/articles/dataset/Daily_rainfall_over_NSW_Australia/14096681) to your local computer using the [figshare API](https://docs.figshare.com) (you need to make use of `requests` library).\n",
    "\n",
    "2. Extract the zip file, again programmatically, similar to how we did it in class. \n",
    "\n",
    ">  You can download the data and unzip it manually. But we learned about APIs, so we can do it in a reproducible way with the `requests` library, similar to how we [did it in class](https://pages.github.ubc.ca/MDS-2022-23/DSCI_525_web-cloud-comp_students/lectures/lecture1.html#using-rest-api-lab-lecture).\n",
    "\n",
    "> There are 5 files in the figshare repo. The one we want is: `data.zip`"
   ]
  },
  {
   "cell_type": "code",
   "execution_count": 2,
   "metadata": {},
   "outputs": [],
   "source": [
    "# References code from Lecture notes: https://pages.github.ubc.ca/MDS-2022-23/DSCI_525_web-cloud-comp_students/lectures/lecture1.html#using-rest-api-lab-lecture\n",
    "# article with daily rainfall data\n",
    "article_id = 14096681  \n",
    "url = f\"https://api.figshare.com/v2/articles/{article_id}\"\n",
    "headers = {\"Content-Type\": \"application/json\"}\n",
    "output_directory = \"figshare_data/\""
   ]
  },
  {
   "cell_type": "code",
   "execution_count": 3,
   "metadata": {},
   "outputs": [
    {
     "data": {
      "text/plain": [
       "[{'id': 26579150,\n",
       "  'name': 'daily_rainfall_2014.png',\n",
       "  'size': 58863,\n",
       "  'is_link_only': False,\n",
       "  'download_url': 'https://ndownloader.figshare.com/files/26579150',\n",
       "  'supplied_md5': 'fd32a2ffde300a31f8d63b1825d47e5e',\n",
       "  'computed_md5': 'fd32a2ffde300a31f8d63b1825d47e5e'},\n",
       " {'id': 26579171,\n",
       "  'name': 'environment.yml',\n",
       "  'size': 192,\n",
       "  'is_link_only': False,\n",
       "  'download_url': 'https://ndownloader.figshare.com/files/26579171',\n",
       "  'supplied_md5': '060b2020017eed93a1ee7dd8c65b2f34',\n",
       "  'computed_md5': '060b2020017eed93a1ee7dd8c65b2f34'},\n",
       " {'id': 26586554,\n",
       "  'name': 'README.md',\n",
       "  'size': 5422,\n",
       "  'is_link_only': False,\n",
       "  'download_url': 'https://ndownloader.figshare.com/files/26586554',\n",
       "  'supplied_md5': '61858c6cc0e6a6d6663a7e4c75bbd88c',\n",
       "  'computed_md5': '61858c6cc0e6a6d6663a7e4c75bbd88c'},\n",
       " {'id': 26766812,\n",
       "  'name': 'data.zip',\n",
       "  'size': 814041183,\n",
       "  'is_link_only': False,\n",
       "  'download_url': 'https://ndownloader.figshare.com/files/26766812',\n",
       "  'supplied_md5': 'b517383f76e77bd03755a63a8ff83ee9',\n",
       "  'computed_md5': 'b517383f76e77bd03755a63a8ff83ee9'},\n",
       " {'id': 26766815,\n",
       "  'name': 'get_data.py',\n",
       "  'size': 4113,\n",
       "  'is_link_only': False,\n",
       "  'download_url': 'https://ndownloader.figshare.com/files/26766815',\n",
       "  'supplied_md5': '7829028495fd9dec9680ea013474afa6',\n",
       "  'computed_md5': '7829028495fd9dec9680ea013474afa6'}]"
      ]
     },
     "execution_count": 3,
     "metadata": {},
     "output_type": "execute_result"
    }
   ],
   "source": [
    "# Get request to get the files available\n",
    "response = requests.request(\"GET\", url, headers=headers)\n",
    "data = json.loads(response.text)  \n",
    "files = data[\"files\"]          \n",
    "files"
   ]
  },
  {
   "cell_type": "code",
   "execution_count": 4,
   "metadata": {},
   "outputs": [
    {
     "name": "stdout",
     "output_type": "stream",
     "text": [
      "CPU times: user 3.35 s, sys: 5.18 s, total: 8.54 s\n",
      "Wall time: 2min 21s\n"
     ]
    }
   ],
   "source": [
    "%%time\n",
    "\n",
    "# Download data.zip\n",
    "files_to_dl = [\"data.zip\"] \n",
    "for file in files:\n",
    "    if file[\"name\"] in files_to_dl:\n",
    "        os.makedirs(output_directory, exist_ok=True)\n",
    "        urlretrieve(file[\"download_url\"], output_directory + file[\"name\"])"
   ]
  },
  {
   "cell_type": "code",
   "execution_count": 5,
   "metadata": {},
   "outputs": [
    {
     "name": "stdout",
     "output_type": "stream",
     "text": [
      "CPU times: user 7.41 s, sys: 906 ms, total: 8.32 s\n",
      "Wall time: 12.4 s\n"
     ]
    }
   ],
   "source": [
    "%%time\n",
    "\n",
    "# Extract Data.zip\n",
    "with zipfile.ZipFile(os.path.join(output_directory, \"data.zip\"), 'r') as f:\n",
    "    f.extractall(output_directory)"
   ]
  },
  {
   "cell_type": "markdown",
   "metadata": {},
   "source": [
    "\n",
    "\n",
    "### 4. Combining data CSVs\n",
    "rubric={correctness:10,reasoning:10}\n",
    "\n",
    "1. Combine data CSVs into a single CSV using pandas.\n",
    "    \n",
    "2. When combining the CSV files, add an extra column called \"model\" that identifies the model.\n",
    "    Tip 1: you can get this column populated from the file name, eg: for file name \"SAM0-UNICON_daily_rainfall_NSW.csv\", the model name is SAM0-UNICON\n",
    "    Tip 2: Remember how we added \"year\" column when we combined airline CSVs. Here the regex will be to get word before an underscore ie, \"/([^_]*)\"\n",
    "\n",
    "> Note: There is a file called `observed_daily_rainfall_SYD.csv` in the data folder that you downloaded. Make sure you exclude this file (programmatically or just take out that file from the folder) before you combine CSVs. We will use this file in our next milestone.\n",
    "\n",
    "3. ***Compare*** run times on different machines within your team and summarize your observations. \n",
    "\n",
    "> Warning: Some of you might not be able to do it on your laptop. It's fine if you're unable to do it. Just make sure you discuss the reasons why you might not have been able to run this on your laptop. "
   ]
  },
  {
   "cell_type": "code",
   "execution_count": 6,
   "metadata": {},
   "outputs": [
    {
     "name": "stdout",
     "output_type": "stream",
     "text": [
      "/Users/raulaguilar/Documents/ubc_courses/block_6/525/525_group_3/notebooks/figshare_data\n"
     ]
    }
   ],
   "source": [
    "# adjust based on your os\n",
    "%cd \"figshare_data/\""
   ]
  },
  {
   "cell_type": "code",
   "execution_count": 7,
   "metadata": {},
   "outputs": [
    {
     "name": "stdout",
     "output_type": "stream",
     "text": [
      "MPI-ESM-1-2-HAM\n",
      "AWI-ESM-1-1-LR\n",
      "NorESM2-LM\n",
      "ACCESS-CM2\n",
      "FGOALS-f3-L\n",
      "CMCC-CM2-HR4\n",
      "MRI-ESM2-0\n",
      "GFDL-CM4\n",
      "BCC-CSM2-MR\n",
      "EC-Earth3-Veg-LR\n",
      "CMCC-ESM2\n",
      "NESM3\n",
      "MPI-ESM1-2-LR\n",
      "ACCESS-ESM1-5\n",
      "FGOALS-g3\n",
      "INM-CM4-8\n",
      "MPI-ESM1-2-HR\n",
      "TaiESM1\n",
      "NorESM2-MM\n",
      "CMCC-CM2-SR5\n",
      "combined\n",
      "KIOST-ESM\n",
      "INM-CM5-0\n",
      "MIROC6\n",
      "BCC-ESM1\n",
      "GFDL-ESM4\n",
      "CanESM5\n",
      "SAM0-UNICON\n",
      "CPU times: user 6min 52s, sys: 29.8 s, total: 7min 22s\n",
      "Wall time: 8min 25s\n"
     ]
    }
   ],
   "source": [
    "%%time\n",
    "# Exclude the \"observed_daily_rainfall_SYD.csv\" file\n",
    "file_pattern = re.compile(r\"^(?!observed_daily_rainfall_SYD).*\\.csv$\")\n",
    "\n",
    "# Extract the model name\n",
    "def extract_model_name(file_name):\n",
    "    return re.match(r\"([^_]*)\", file_name).group(1)\n",
    "\n",
    "combined_data = []\n",
    "for file_name in os.listdir(\".\"):\n",
    "    if file_pattern.match(file_name):\n",
    "        model_name = extract_model_name(file_name)\n",
    "        print(model_name)\n",
    "        data = pd.read_csv(file_name)\n",
    "        data[\"model\"] = model_name\n",
    "        combined_data.append(data)\n",
    "\n",
    "# Combine all the dataframes\n",
    "combined_data = pd.concat(combined_data, ignore_index=True)\n",
    "combined_data.to_csv(\"combined_data.csv\", index=False)"
   ]
  },
  {
   "cell_type": "code",
   "execution_count": 8,
   "metadata": {},
   "outputs": [
    {
     "data": {
      "text/html": [
       "<div>\n",
       "<style scoped>\n",
       "    .dataframe tbody tr th:only-of-type {\n",
       "        vertical-align: middle;\n",
       "    }\n",
       "\n",
       "    .dataframe tbody tr th {\n",
       "        vertical-align: top;\n",
       "    }\n",
       "\n",
       "    .dataframe thead th {\n",
       "        text-align: right;\n",
       "    }\n",
       "</style>\n",
       "<table border=\"1\" class=\"dataframe\">\n",
       "  <thead>\n",
       "    <tr style=\"text-align: right;\">\n",
       "      <th></th>\n",
       "      <th>time</th>\n",
       "      <th>lat_min</th>\n",
       "      <th>lat_max</th>\n",
       "      <th>lon_min</th>\n",
       "      <th>lon_max</th>\n",
       "      <th>rain (mm/day)</th>\n",
       "      <th>model</th>\n",
       "    </tr>\n",
       "  </thead>\n",
       "  <tbody>\n",
       "    <tr>\n",
       "      <th>0</th>\n",
       "      <td>1889-01-01 12:00:00</td>\n",
       "      <td>-35.439867</td>\n",
       "      <td>-33.574619</td>\n",
       "      <td>141.5625</td>\n",
       "      <td>143.4375</td>\n",
       "      <td>4.244226e-13</td>\n",
       "      <td>MPI-ESM-1-2-HAM</td>\n",
       "    </tr>\n",
       "    <tr>\n",
       "      <th>1</th>\n",
       "      <td>1889-01-02 12:00:00</td>\n",
       "      <td>-35.439867</td>\n",
       "      <td>-33.574619</td>\n",
       "      <td>141.5625</td>\n",
       "      <td>143.4375</td>\n",
       "      <td>4.217326e-13</td>\n",
       "      <td>MPI-ESM-1-2-HAM</td>\n",
       "    </tr>\n",
       "    <tr>\n",
       "      <th>2</th>\n",
       "      <td>1889-01-03 12:00:00</td>\n",
       "      <td>-35.439867</td>\n",
       "      <td>-33.574619</td>\n",
       "      <td>141.5625</td>\n",
       "      <td>143.4375</td>\n",
       "      <td>4.498125e-13</td>\n",
       "      <td>MPI-ESM-1-2-HAM</td>\n",
       "    </tr>\n",
       "    <tr>\n",
       "      <th>3</th>\n",
       "      <td>1889-01-04 12:00:00</td>\n",
       "      <td>-35.439867</td>\n",
       "      <td>-33.574619</td>\n",
       "      <td>141.5625</td>\n",
       "      <td>143.4375</td>\n",
       "      <td>4.251282e-13</td>\n",
       "      <td>MPI-ESM-1-2-HAM</td>\n",
       "    </tr>\n",
       "    <tr>\n",
       "      <th>4</th>\n",
       "      <td>1889-01-05 12:00:00</td>\n",
       "      <td>-35.439867</td>\n",
       "      <td>-33.574619</td>\n",
       "      <td>141.5625</td>\n",
       "      <td>143.4375</td>\n",
       "      <td>4.270161e-13</td>\n",
       "      <td>MPI-ESM-1-2-HAM</td>\n",
       "    </tr>\n",
       "    <tr>\n",
       "      <th>...</th>\n",
       "      <td>...</td>\n",
       "      <td>...</td>\n",
       "      <td>...</td>\n",
       "      <td>...</td>\n",
       "      <td>...</td>\n",
       "      <td>...</td>\n",
       "      <td>...</td>\n",
       "    </tr>\n",
       "    <tr>\n",
       "      <th>124935681</th>\n",
       "      <td>2014-12-27 12:00:00</td>\n",
       "      <td>-30.157068</td>\n",
       "      <td>-29.214660</td>\n",
       "      <td>153.1250</td>\n",
       "      <td>154.3750</td>\n",
       "      <td>6.689683e+00</td>\n",
       "      <td>SAM0-UNICON</td>\n",
       "    </tr>\n",
       "    <tr>\n",
       "      <th>124935682</th>\n",
       "      <td>2014-12-28 12:00:00</td>\n",
       "      <td>-30.157068</td>\n",
       "      <td>-29.214660</td>\n",
       "      <td>153.1250</td>\n",
       "      <td>154.3750</td>\n",
       "      <td>7.862555e+00</td>\n",
       "      <td>SAM0-UNICON</td>\n",
       "    </tr>\n",
       "    <tr>\n",
       "      <th>124935683</th>\n",
       "      <td>2014-12-29 12:00:00</td>\n",
       "      <td>-30.157068</td>\n",
       "      <td>-29.214660</td>\n",
       "      <td>153.1250</td>\n",
       "      <td>154.3750</td>\n",
       "      <td>1.000503e+01</td>\n",
       "      <td>SAM0-UNICON</td>\n",
       "    </tr>\n",
       "    <tr>\n",
       "      <th>124935684</th>\n",
       "      <td>2014-12-30 12:00:00</td>\n",
       "      <td>-30.157068</td>\n",
       "      <td>-29.214660</td>\n",
       "      <td>153.1250</td>\n",
       "      <td>154.3750</td>\n",
       "      <td>8.541592e+00</td>\n",
       "      <td>SAM0-UNICON</td>\n",
       "    </tr>\n",
       "    <tr>\n",
       "      <th>124935685</th>\n",
       "      <td>2014-12-31 12:00:00</td>\n",
       "      <td>-30.157068</td>\n",
       "      <td>-29.214660</td>\n",
       "      <td>153.1250</td>\n",
       "      <td>154.3750</td>\n",
       "      <td>6.811749e+01</td>\n",
       "      <td>SAM0-UNICON</td>\n",
       "    </tr>\n",
       "  </tbody>\n",
       "</table>\n",
       "<p>124935686 rows × 7 columns</p>\n",
       "</div>"
      ],
      "text/plain": [
       "                          time    lat_min    lat_max   lon_min   lon_max  \\\n",
       "0          1889-01-01 12:00:00 -35.439867 -33.574619  141.5625  143.4375   \n",
       "1          1889-01-02 12:00:00 -35.439867 -33.574619  141.5625  143.4375   \n",
       "2          1889-01-03 12:00:00 -35.439867 -33.574619  141.5625  143.4375   \n",
       "3          1889-01-04 12:00:00 -35.439867 -33.574619  141.5625  143.4375   \n",
       "4          1889-01-05 12:00:00 -35.439867 -33.574619  141.5625  143.4375   \n",
       "...                        ...        ...        ...       ...       ...   \n",
       "124935681  2014-12-27 12:00:00 -30.157068 -29.214660  153.1250  154.3750   \n",
       "124935682  2014-12-28 12:00:00 -30.157068 -29.214660  153.1250  154.3750   \n",
       "124935683  2014-12-29 12:00:00 -30.157068 -29.214660  153.1250  154.3750   \n",
       "124935684  2014-12-30 12:00:00 -30.157068 -29.214660  153.1250  154.3750   \n",
       "124935685  2014-12-31 12:00:00 -30.157068 -29.214660  153.1250  154.3750   \n",
       "\n",
       "           rain (mm/day)            model  \n",
       "0           4.244226e-13  MPI-ESM-1-2-HAM  \n",
       "1           4.217326e-13  MPI-ESM-1-2-HAM  \n",
       "2           4.498125e-13  MPI-ESM-1-2-HAM  \n",
       "3           4.251282e-13  MPI-ESM-1-2-HAM  \n",
       "4           4.270161e-13  MPI-ESM-1-2-HAM  \n",
       "...                  ...              ...  \n",
       "124935681   6.689683e+00      SAM0-UNICON  \n",
       "124935682   7.862555e+00      SAM0-UNICON  \n",
       "124935683   1.000503e+01      SAM0-UNICON  \n",
       "124935684   8.541592e+00      SAM0-UNICON  \n",
       "124935685   6.811749e+01      SAM0-UNICON  \n",
       "\n",
       "[124935686 rows x 7 columns]"
      ]
     },
     "execution_count": 8,
     "metadata": {},
     "output_type": "execute_result"
    }
   ],
   "source": [
    "combined_data"
   ]
  },
  {
   "cell_type": "code",
   "execution_count": 9,
   "metadata": {},
   "outputs": [
    {
     "name": "stdout",
     "output_type": "stream",
     "text": [
      " 11G\tcombined_data.csv\n"
     ]
    }
   ],
   "source": [
    "%%sh\n",
    "du -sh combined_data.csv"
   ]
  },
  {
   "cell_type": "code",
   "execution_count": 10,
   "metadata": {},
   "outputs": [
    {
     "data": {
      "text/html": [
       "<div>\n",
       "<style scoped>\n",
       "    .dataframe tbody tr th:only-of-type {\n",
       "        vertical-align: middle;\n",
       "    }\n",
       "\n",
       "    .dataframe tbody tr th {\n",
       "        vertical-align: top;\n",
       "    }\n",
       "\n",
       "    .dataframe thead th {\n",
       "        text-align: right;\n",
       "    }\n",
       "</style>\n",
       "<table border=\"1\" class=\"dataframe\">\n",
       "  <thead>\n",
       "    <tr style=\"text-align: right;\">\n",
       "      <th></th>\n",
       "      <th>Team Member</th>\n",
       "      <th>Operating System</th>\n",
       "      <th>RAM</th>\n",
       "      <th>Processor</th>\n",
       "      <th>Is SSD</th>\n",
       "      <th>Time taken</th>\n",
       "    </tr>\n",
       "  </thead>\n",
       "  <tbody>\n",
       "    <tr>\n",
       "      <th>0</th>\n",
       "      <td>Andy Wang</td>\n",
       "      <td>Windows 11</td>\n",
       "      <td>32GB</td>\n",
       "      <td>Intel(R) Core(TM) i7-10870H</td>\n",
       "      <td>Y</td>\n",
       "      <td>6min 37s</td>\n",
       "    </tr>\n",
       "    <tr>\n",
       "      <th>1</th>\n",
       "      <td>Samson Bakos</td>\n",
       "      <td>MacOS Ventura 13.2</td>\n",
       "      <td>16GB</td>\n",
       "      <td>Apple M1</td>\n",
       "      <td>Y</td>\n",
       "      <td>3min 55s</td>\n",
       "    </tr>\n",
       "    <tr>\n",
       "      <th>2</th>\n",
       "      <td>Raul Aguilar</td>\n",
       "      <td>MacOS Monterey 12.5.1</td>\n",
       "      <td>8GB</td>\n",
       "      <td>Apple M2</td>\n",
       "      <td>Y</td>\n",
       "      <td>3min 32s</td>\n",
       "    </tr>\n",
       "    <tr>\n",
       "      <th>3</th>\n",
       "      <td>Arjun Radhakrishnan</td>\n",
       "      <td>Windows 11</td>\n",
       "      <td>16GB</td>\n",
       "      <td>Intel(R) Core(TM) i7-12700H</td>\n",
       "      <td>Y</td>\n",
       "      <td>3 min 38s</td>\n",
       "    </tr>\n",
       "  </tbody>\n",
       "</table>\n",
       "</div>"
      ],
      "text/plain": [
       "           Team Member       Operating System   RAM  \\\n",
       "0            Andy Wang             Windows 11  32GB   \n",
       "1         Samson Bakos     MacOS Ventura 13.2  16GB   \n",
       "2         Raul Aguilar  MacOS Monterey 12.5.1   8GB   \n",
       "3  Arjun Radhakrishnan             Windows 11  16GB   \n",
       "\n",
       "                     Processor Is SSD Time taken  \n",
       "0  Intel(R) Core(TM) i7-10870H      Y   6min 37s  \n",
       "1                     Apple M1      Y   3min 55s  \n",
       "2                     Apple M2      Y   3min 32s  \n",
       "3  Intel(R) Core(TM) i7-12700H      Y  3 min 38s  "
      ]
     },
     "metadata": {},
     "output_type": "display_data"
    }
   ],
   "source": [
    "# table for Q4\n",
    "data = {\n",
    "    \"Team Member\": [\"Andy Wang\", \"Samson Bakos\", \"Raul Aguilar\", \"Arjun Radhakrishnan\"],\n",
    "    \"Operating System\": [\"Windows 11\", \"MacOS Ventura 13.2\", \"MacOS Monterey 12.5.1\", \"Windows 11\"],\n",
    "    \"RAM\": [\"32GB\", \"16GB\", \"8GB\", \"16GB\"],\n",
    "    \"Processor\": [\"Intel(R) Core(TM) i7-10870H\", \"Apple M1\", \"Apple M2\", \"Intel(R) Core(TM) i7-12700H\"],\n",
    "    \"Is SSD\": [\"Y\", \"Y\", \"Y\", \"Y\"],\n",
    "    \"Time taken\": [\"6min 37s\", \"3min 55s\", \"3min 32s\", \"3 min 38s\"]\n",
    "}\n",
    "table = pd.DataFrame(data)\n",
    "\n",
    "display(table)"
   ]
  },
  {
   "cell_type": "markdown",
   "metadata": {},
   "source": [
    "\n",
    "### 5. Load the combined CSV to memory and perform a simple EDA\n",
    "rubric={correctness:10,reasoning:10}\n",
    "\n",
    "1. Investigate at least two of the following approaches to reduce memory usage while performing the EDA (e.g., value_counts). Refer to lecture notes [here](https://pages.github.ubc.ca/MDS-2022-23/DSCI_525_web-cloud-comp_students/lectures/lecture1.html#some-tactics-to-deal-with-memory-issue).\n",
    "    - Changing `dtype` of your data\n",
    "    - Load just columns that we want\n",
    "    - Loading in chunks\n",
    "    \n",
    "2. ***Compare*** run times on different machines within your team and summarize your observations."
   ]
  },
  {
   "cell_type": "code",
   "execution_count": 11,
   "metadata": {},
   "outputs": [
    {
     "name": "stdout",
     "output_type": "stream",
     "text": [
      "CPU times: user 38.1 s, sys: 5.27 s, total: 43.4 s\n",
      "Wall time: 45.7 s\n"
     ]
    }
   ],
   "source": [
    "%%time\n",
    "\n",
    "columns = [\"lat_min\", \"lat_max\", \"lon_min\", \"lon_max\", \"rain (mm/day)\", \"model\"] \n",
    "# dropping Time because timestamp not useful for EDA\n",
    "# keeping the numeric columns and the model column for EDA\n",
    "\n",
    "df = pd.read_csv(\"combined_data.csv\", usecols = columns)"
   ]
  },
  {
   "cell_type": "code",
   "execution_count": 12,
   "metadata": {},
   "outputs": [
    {
     "name": "stdout",
     "output_type": "stream",
     "text": [
      "CPU times: user 1.48 s, sys: 5.59 s, total: 7.07 s\n",
      "Wall time: 9.87 s\n"
     ]
    }
   ],
   "source": [
    "%%time\n",
    "\n",
    "# Change float 64 to float 32\n",
    "float64_cols = list(df.select_dtypes(include='float64'))\n",
    "df[float64_cols] = df[float64_cols].astype('float32')\n",
    "\n",
    "# create column subsets to simplify computations\n",
    "numeric_cols= [\"lat_min\", \"lat_max\", \"lon_min\", \"lon_max\", \"rain (mm/day)\"]\n",
    "cat_cols = [\"model\"]\n"
   ]
  },
  {
   "cell_type": "code",
   "execution_count": 13,
   "metadata": {},
   "outputs": [
    {
     "name": "stdout",
     "output_type": "stream",
     "text": [
      "Loaded size is 3.5 GB\n"
     ]
    }
   ],
   "source": [
    "print(f\"Loaded size is {round(df.memory_usage().sum()*1e-9,2)} GB\")"
   ]
  },
  {
   "cell_type": "code",
   "execution_count": 14,
   "metadata": {},
   "outputs": [
    {
     "name": "stdout",
     "output_type": "stream",
     "text": [
      "<class 'pandas.core.frame.DataFrame'>\n",
      "RangeIndex: 124935686 entries, 0 to 124935685\n",
      "Data columns (total 6 columns):\n",
      " #   Column         Dtype  \n",
      "---  ------         -----  \n",
      " 0   lat_min        float32\n",
      " 1   lat_max        float32\n",
      " 2   lon_min        float32\n",
      " 3   lon_max        float32\n",
      " 4   rain (mm/day)  float32\n",
      " 5   model          object \n",
      "dtypes: float32(5), object(1)\n",
      "memory usage: 3.3+ GB\n",
      "CPU times: user 2.22 ms, sys: 2.84 ms, total: 5.06 ms\n",
      "Wall time: 17.6 ms\n"
     ]
    }
   ],
   "source": [
    "%%time\n",
    "\n",
    "df.info()"
   ]
  },
  {
   "cell_type": "code",
   "execution_count": 15,
   "metadata": {},
   "outputs": [
    {
     "name": "stdout",
     "output_type": "stream",
     "text": [
      "CPU times: user 3.54 s, sys: 1.02 s, total: 4.55 s\n",
      "Wall time: 5.29 s\n"
     ]
    },
    {
     "data": {
      "text/plain": [
       "model    28\n",
       "dtype: int64"
      ]
     },
     "execution_count": 15,
     "metadata": {},
     "output_type": "execute_result"
    }
   ],
   "source": [
    "%%time\n",
    "\n",
    "\n",
    "df[cat_cols].nunique()"
   ]
  },
  {
   "cell_type": "code",
   "execution_count": 16,
   "metadata": {},
   "outputs": [
    {
     "name": "stdout",
     "output_type": "stream",
     "text": [
      "CPU times: user 12.7 s, sys: 2.65 s, total: 15.3 s\n",
      "Wall time: 16.1 s\n"
     ]
    },
    {
     "data": {
      "text/html": [
       "<div>\n",
       "<style scoped>\n",
       "    .dataframe tbody tr th:only-of-type {\n",
       "        vertical-align: middle;\n",
       "    }\n",
       "\n",
       "    .dataframe tbody tr th {\n",
       "        vertical-align: top;\n",
       "    }\n",
       "\n",
       "    .dataframe thead th {\n",
       "        text-align: right;\n",
       "    }\n",
       "</style>\n",
       "<table border=\"1\" class=\"dataframe\">\n",
       "  <thead>\n",
       "    <tr style=\"text-align: right;\">\n",
       "      <th></th>\n",
       "      <th>lat_min</th>\n",
       "      <th>lat_max</th>\n",
       "      <th>lon_min</th>\n",
       "      <th>lon_max</th>\n",
       "      <th>rain (mm/day)</th>\n",
       "    </tr>\n",
       "  </thead>\n",
       "  <tbody>\n",
       "    <tr>\n",
       "      <th>count</th>\n",
       "      <td>1.184971e+08</td>\n",
       "      <td>1.249357e+08</td>\n",
       "      <td>1.184971e+08</td>\n",
       "      <td>1.249357e+08</td>\n",
       "      <td>1.184971e+08</td>\n",
       "    </tr>\n",
       "    <tr>\n",
       "      <th>mean</th>\n",
       "      <td>-3.310474e+01</td>\n",
       "      <td>-3.197730e+01</td>\n",
       "      <td>1.469064e+02</td>\n",
       "      <td>1.482143e+02</td>\n",
       "      <td>1.901167e+00</td>\n",
       "    </tr>\n",
       "    <tr>\n",
       "      <th>std</th>\n",
       "      <td>1.963549e+00</td>\n",
       "      <td>1.992067e+00</td>\n",
       "      <td>3.793784e+00</td>\n",
       "      <td>3.809994e+00</td>\n",
       "      <td>5.585735e+00</td>\n",
       "    </tr>\n",
       "    <tr>\n",
       "      <th>min</th>\n",
       "      <td>-3.646739e+01</td>\n",
       "      <td>-3.600000e+01</td>\n",
       "      <td>1.406250e+02</td>\n",
       "      <td>1.412500e+02</td>\n",
       "      <td>-3.807373e-12</td>\n",
       "    </tr>\n",
       "    <tr>\n",
       "      <th>25%</th>\n",
       "      <td>-3.486911e+01</td>\n",
       "      <td>-3.366221e+01</td>\n",
       "      <td>1.434375e+02</td>\n",
       "      <td>1.450000e+02</td>\n",
       "      <td>3.838411e-06</td>\n",
       "    </tr>\n",
       "    <tr>\n",
       "      <th>50%</th>\n",
       "      <td>-3.300000e+01</td>\n",
       "      <td>-3.204189e+01</td>\n",
       "      <td>1.468750e+02</td>\n",
       "      <td>1.481250e+02</td>\n",
       "      <td>6.154947e-02</td>\n",
       "    </tr>\n",
       "    <tr>\n",
       "      <th>75%</th>\n",
       "      <td>-3.140170e+01</td>\n",
       "      <td>-3.015707e+01</td>\n",
       "      <td>1.501875e+02</td>\n",
       "      <td>1.513125e+02</td>\n",
       "      <td>1.020918e+00</td>\n",
       "    </tr>\n",
       "    <tr>\n",
       "      <th>max</th>\n",
       "      <td>-2.990000e+01</td>\n",
       "      <td>-2.790606e+01</td>\n",
       "      <td>1.537500e+02</td>\n",
       "      <td>1.556250e+02</td>\n",
       "      <td>4.329395e+02</td>\n",
       "    </tr>\n",
       "  </tbody>\n",
       "</table>\n",
       "</div>"
      ],
      "text/plain": [
       "            lat_min       lat_max       lon_min       lon_max  rain (mm/day)\n",
       "count  1.184971e+08  1.249357e+08  1.184971e+08  1.249357e+08   1.184971e+08\n",
       "mean  -3.310474e+01 -3.197730e+01  1.469064e+02  1.482143e+02   1.901167e+00\n",
       "std    1.963549e+00  1.992067e+00  3.793784e+00  3.809994e+00   5.585735e+00\n",
       "min   -3.646739e+01 -3.600000e+01  1.406250e+02  1.412500e+02  -3.807373e-12\n",
       "25%   -3.486911e+01 -3.366221e+01  1.434375e+02  1.450000e+02   3.838411e-06\n",
       "50%   -3.300000e+01 -3.204189e+01  1.468750e+02  1.481250e+02   6.154947e-02\n",
       "75%   -3.140170e+01 -3.015707e+01  1.501875e+02  1.513125e+02   1.020918e+00\n",
       "max   -2.990000e+01 -2.790606e+01  1.537500e+02  1.556250e+02   4.329395e+02"
      ]
     },
     "execution_count": 16,
     "metadata": {},
     "output_type": "execute_result"
    }
   ],
   "source": [
    "%%time\n",
    "\n",
    "df[numeric_cols].describe()"
   ]
  },
  {
   "cell_type": "code",
   "execution_count": 17,
   "metadata": {},
   "outputs": [
    {
     "name": "stdout",
     "output_type": "stream",
     "text": [
      "CPU times: user 3.89 s, sys: 730 ms, total: 4.62 s\n",
      "Wall time: 4.78 s\n"
     ]
    },
    {
     "data": {
      "text/plain": [
       "model           \n",
       "combined            62467843\n",
       "MPI-ESM1-2-HR        5154240\n",
       "TaiESM1              3541230\n",
       "CMCC-CM2-HR4         3541230\n",
       "CMCC-CM2-SR5         3541230\n",
       "CMCC-ESM2            3541230\n",
       "NorESM2-MM           3541230\n",
       "SAM0-UNICON          3541153\n",
       "FGOALS-f3-L          3219300\n",
       "GFDL-CM4             3219300\n",
       "GFDL-ESM4            3219300\n",
       "EC-Earth3-Veg-LR     3037320\n",
       "MRI-ESM2-0           3037320\n",
       "BCC-CSM2-MR          3035340\n",
       "MIROC6               2070900\n",
       "ACCESS-CM2           1932840\n",
       "ACCESS-ESM1-5        1610700\n",
       "INM-CM5-0            1609650\n",
       "INM-CM4-8            1609650\n",
       "KIOST-ESM            1287720\n",
       "FGOALS-g3            1287720\n",
       "MPI-ESM-1-2-HAM       966420\n",
       "MPI-ESM1-2-LR         966420\n",
       "NESM3                 966420\n",
       "AWI-ESM-1-1-LR        966420\n",
       "NorESM2-LM            919800\n",
       "CanESM5               551880\n",
       "BCC-ESM1              551880\n",
       "dtype: int64"
      ]
     },
     "execution_count": 17,
     "metadata": {},
     "output_type": "execute_result"
    }
   ],
   "source": [
    "%%time\n",
    "\n",
    "df[cat_cols].value_counts()"
   ]
  },
  {
   "cell_type": "code",
   "execution_count": 18,
   "metadata": {},
   "outputs": [
    {
     "name": "stdout",
     "output_type": "stream",
     "text": [
      "CPU times: user 8.42 s, sys: 586 ms, total: 9.01 s\n",
      "Wall time: 9.25 s\n"
     ]
    },
    {
     "data": {
      "text/plain": [
       "lat_min          6438600\n",
       "lat_max                0\n",
       "lon_min          6438600\n",
       "lon_max                0\n",
       "rain (mm/day)    6438600\n",
       "model                  0\n",
       "dtype: int64"
      ]
     },
     "execution_count": 18,
     "metadata": {},
     "output_type": "execute_result"
    }
   ],
   "source": [
    "%%time\n",
    "\n",
    "df.isnull().sum()"
   ]
  },
  {
   "cell_type": "code",
   "execution_count": 19,
   "metadata": {},
   "outputs": [
    {
     "name": "stdout",
     "output_type": "stream",
     "text": [
      "CPU times: user 5.74 s, sys: 6.69 s, total: 12.4 s\n",
      "Wall time: 16.3 s\n"
     ]
    },
    {
     "data": {
      "text/html": [
       "<div>\n",
       "<style scoped>\n",
       "    .dataframe tbody tr th:only-of-type {\n",
       "        vertical-align: middle;\n",
       "    }\n",
       "\n",
       "    .dataframe tbody tr th {\n",
       "        vertical-align: top;\n",
       "    }\n",
       "\n",
       "    .dataframe thead th {\n",
       "        text-align: right;\n",
       "    }\n",
       "</style>\n",
       "<table border=\"1\" class=\"dataframe\">\n",
       "  <thead>\n",
       "    <tr style=\"text-align: right;\">\n",
       "      <th></th>\n",
       "      <th>lat_min</th>\n",
       "      <th>lat_max</th>\n",
       "      <th>lon_min</th>\n",
       "      <th>lon_max</th>\n",
       "      <th>rain (mm/day)</th>\n",
       "    </tr>\n",
       "  </thead>\n",
       "  <tbody>\n",
       "    <tr>\n",
       "      <th>lat_min</th>\n",
       "      <td>1.000000</td>\n",
       "      <td>0.979885</td>\n",
       "      <td>-0.002787</td>\n",
       "      <td>-0.007665</td>\n",
       "      <td>-0.009120</td>\n",
       "    </tr>\n",
       "    <tr>\n",
       "      <th>lat_max</th>\n",
       "      <td>0.979885</td>\n",
       "      <td>1.000000</td>\n",
       "      <td>-0.005045</td>\n",
       "      <td>0.018706</td>\n",
       "      <td>-0.009025</td>\n",
       "    </tr>\n",
       "    <tr>\n",
       "      <th>lon_min</th>\n",
       "      <td>-0.002787</td>\n",
       "      <td>-0.005045</td>\n",
       "      <td>1.000000</td>\n",
       "      <td>0.993943</td>\n",
       "      <td>0.128947</td>\n",
       "    </tr>\n",
       "    <tr>\n",
       "      <th>lon_max</th>\n",
       "      <td>-0.007665</td>\n",
       "      <td>0.018706</td>\n",
       "      <td>0.993943</td>\n",
       "      <td>1.000000</td>\n",
       "      <td>0.131360</td>\n",
       "    </tr>\n",
       "    <tr>\n",
       "      <th>rain (mm/day)</th>\n",
       "      <td>-0.009120</td>\n",
       "      <td>-0.009025</td>\n",
       "      <td>0.128947</td>\n",
       "      <td>0.131360</td>\n",
       "      <td>1.000000</td>\n",
       "    </tr>\n",
       "  </tbody>\n",
       "</table>\n",
       "</div>"
      ],
      "text/plain": [
       "                lat_min   lat_max   lon_min   lon_max  rain (mm/day)\n",
       "lat_min        1.000000  0.979885 -0.002787 -0.007665      -0.009120\n",
       "lat_max        0.979885  1.000000 -0.005045  0.018706      -0.009025\n",
       "lon_min       -0.002787 -0.005045  1.000000  0.993943       0.128947\n",
       "lon_max       -0.007665  0.018706  0.993943  1.000000       0.131360\n",
       "rain (mm/day) -0.009120 -0.009025  0.128947  0.131360       1.000000"
      ]
     },
     "execution_count": 19,
     "metadata": {},
     "output_type": "execute_result"
    }
   ],
   "source": [
    "%%time\n",
    "\n",
    "df[numeric_cols].corr()"
   ]
  },
  {
   "cell_type": "code",
   "execution_count": 20,
   "metadata": {},
   "outputs": [
    {
     "data": {
      "text/html": [
       "<div>\n",
       "<style scoped>\n",
       "    .dataframe tbody tr th:only-of-type {\n",
       "        vertical-align: middle;\n",
       "    }\n",
       "\n",
       "    .dataframe tbody tr th {\n",
       "        vertical-align: top;\n",
       "    }\n",
       "\n",
       "    .dataframe thead th {\n",
       "        text-align: right;\n",
       "    }\n",
       "</style>\n",
       "<table border=\"1\" class=\"dataframe\">\n",
       "  <thead>\n",
       "    <tr style=\"text-align: right;\">\n",
       "      <th></th>\n",
       "      <th>Team Member</th>\n",
       "      <th>Operating System</th>\n",
       "      <th>RAM</th>\n",
       "      <th>Processor</th>\n",
       "      <th>Is SSD</th>\n",
       "      <th>Time taken</th>\n",
       "    </tr>\n",
       "  </thead>\n",
       "  <tbody>\n",
       "    <tr>\n",
       "      <th>0</th>\n",
       "      <td>Samson Bakos</td>\n",
       "      <td>MacOS Ventura 13.2</td>\n",
       "      <td>16GB</td>\n",
       "      <td>M1</td>\n",
       "      <td>Y</td>\n",
       "      <td>51.9s</td>\n",
       "    </tr>\n",
       "    <tr>\n",
       "      <th>1</th>\n",
       "      <td>Raul Aguilar</td>\n",
       "      <td>MacOS Monterey 12.5</td>\n",
       "      <td>8GB</td>\n",
       "      <td>M2</td>\n",
       "      <td>Y</td>\n",
       "      <td>49.1s</td>\n",
       "    </tr>\n",
       "    <tr>\n",
       "      <th>2</th>\n",
       "      <td>Andy Wang</td>\n",
       "      <td>Windows 11</td>\n",
       "      <td>32GB</td>\n",
       "      <td>Intel(R) Core(TM) i7-10870H</td>\n",
       "      <td>Y</td>\n",
       "      <td>66.95</td>\n",
       "    </tr>\n",
       "    <tr>\n",
       "      <th>3</th>\n",
       "      <td>Arjun Radhakrishnan</td>\n",
       "      <td>Windows 11</td>\n",
       "      <td>16GB</td>\n",
       "      <td>Intel(R) Core(TM) i7-12700H</td>\n",
       "      <td>Y</td>\n",
       "      <td>52.1s</td>\n",
       "    </tr>\n",
       "  </tbody>\n",
       "</table>\n",
       "</div>"
      ],
      "text/plain": [
       "           Team Member     Operating System   RAM  \\\n",
       "0         Samson Bakos   MacOS Ventura 13.2  16GB   \n",
       "1         Raul Aguilar  MacOS Monterey 12.5   8GB   \n",
       "2            Andy Wang           Windows 11  32GB   \n",
       "3  Arjun Radhakrishnan           Windows 11  16GB   \n",
       "\n",
       "                     Processor Is SSD Time taken  \n",
       "0                           M1      Y      51.9s  \n",
       "1                           M2      Y      49.1s  \n",
       "2  Intel(R) Core(TM) i7-10870H      Y      66.95  \n",
       "3  Intel(R) Core(TM) i7-12700H      Y      52.1s  "
      ]
     },
     "metadata": {},
     "output_type": "display_data"
    }
   ],
   "source": [
    "# table for q5\n",
    "data = {\n",
    "    \"Team Member\": [\"Samson Bakos\", \"Raul Aguilar\", \"Andy Wang\", \"Arjun Radhakrishnan\"],\n",
    "    \"Operating System\": [\"MacOS Ventura 13.2\", \"MacOS Monterey 12.5\", \"Windows 11\", \"Windows 11\"],\n",
    "    \"RAM\": [\"16GB\", \"8GB\", \"32GB\", \"16GB\"],\n",
    "    \"Processor\": [\"M1\", \"M2\", \"Intel(R) Core(TM) i7-10870H\", \"Intel(R) Core(TM) i7-12700H\"],\n",
    "    \"Is SSD\": [\"Y\", \"Y\", \"Y\", \"Y\"],\n",
    "    \"Time taken\": [\"51.9s\", \"49.1s\", \"66.95\", \"52.1s\"]\n",
    "}\n",
    "table = pd.DataFrame(data)\n",
    "\n",
    "display(table)"
   ]
  },
  {
   "cell_type": "markdown",
   "metadata": {
    "tags": []
   },
   "source": [
    "\n",
    "### 6. Perform a simple EDA in R\n",
    "rubric={correctness:15,reasoning:10}\n",
    "\n",
    "1. Choose one of the methods listed below for transferring the dataframe (i.e., the entire dataset) from Python to R, and explain why you opted for this approach instead of the others.\n",
    "    - [Parquet file](https://pages.github.ubc.ca/MDS-2022-23/DSCI_525_web-cloud-comp_students/lectures/lecture2.html#converting-csv-parquet)\n",
    "    - [Pandas exchange](https://pages.github.ubc.ca/MDS-2022-23/DSCI_525_web-cloud-comp_students/lectures/lecture1.html#use-r-and-python-interchangeably)\n",
    "    - [Arrow exchange](https://pages.github.ubc.ca/MDS-2022-23/DSCI_525_web-cloud-comp_students/lectures/lecture2.html#use-r-and-python-interchangeably-with-arrow)\n",
    "2. Once you have the dataframe in R, perform a simple EDA.\n"
   ]
  },
  {
   "cell_type": "markdown",
   "metadata": {},
   "source": [
    "__ANSWER__:\n",
    "\n",
    "One of the primary factors in our decision to choose `Arrow exchange` over `Parquet file` and `Pandas exchange` is its efficiency when it comes to serialization and de-serialization processes, allowing an optimal use of memory space. Additionally, since `Arrow exchange` uses an unified memory representation, it facilitates seamless interchangeability between multiple programming languages. Moreover, `Arrow R` has good integration with essential R libraries such as `Dplyr`, `Lubridate`, and `String R`. This integration empowers users to perform comprehensive data wrangling operations on large-scale data frames."
   ]
  },
  {
   "cell_type": "code",
   "execution_count": 21,
   "metadata": {},
   "outputs": [],
   "source": [
    "# Change to your local path if necessary\n",
    "import os\n",
    "os.environ['R_HOME'] = '/Users/raulaguilar/opt/miniconda3/envs/525_dev/lib/R'"
   ]
  },
  {
   "cell_type": "code",
   "execution_count": 22,
   "metadata": {},
   "outputs": [],
   "source": [
    "%load_ext rpy2.ipython \n",
    "# Load R magic in notebook"
   ]
  },
  {
   "cell_type": "code",
   "execution_count": 23,
   "metadata": {},
   "outputs": [],
   "source": [
    "# Combined data path\n",
    "combinedcsv = \"combined_data.csv\""
   ]
  },
  {
   "cell_type": "code",
   "execution_count": 24,
   "metadata": {},
   "outputs": [
    {
     "name": "stdout",
     "output_type": "stream",
     "text": [
      "CPU times: user 22.1 s, sys: 2.46 s, total: 24.6 s\n",
      "Wall time: 23.9 s\n"
     ]
    }
   ],
   "source": [
    "%%time\n",
    "\n",
    "# Build `pyarrow dataset`\n",
    "dataset = ds.dataset(combinedcsv, format=\"csv\")\n",
    "\n",
    "# Converting the `pyarrow dataset` to a `pyarrow table`\n",
    "table = dataset.to_table()\n",
    "\n",
    "# Converting a `pyarrow table` to a `rarrow table`\n",
    "r_table = pyra.converter.py2rpy(table)"
   ]
  },
  {
   "cell_type": "code",
   "execution_count": 25,
   "metadata": {},
   "outputs": [
    {
     "name": "stdout",
     "output_type": "stream",
     "text": [
      "Table\n",
      "124,935,686 rows x 7 columns\n",
      "$ time      <timestamp[s]> 1889-01-01 05:23:24, 1889-01-02 05:23:24, 1889-01-03 …\n",
      "$ lat_min         <double> -35.43987, -35.43987, -35.43987, -35.43987, -35.43987…\n",
      "$ lat_max         <double> -33.57462, -33.57462, -33.57462, -33.57462, -33.57462…\n",
      "$ lon_min         <double> 141.5625, 141.5625, 141.5625, 141.5625, 141.5625, 141…\n",
      "$ lon_max         <double> 143.4375, 143.4375, 143.4375, 143.4375, 143.4375, 143…\n",
      "$ `rain (mm/day)` <double> 4.244226e-13, 4.217326e-13, 4.498125e-13, 4.251282e-1…\n",
      "$ model           <string> \"MPI-ESM-1-2-HAM\", \"MPI-ESM-1-2-HAM\", \"MPI-ESM-1-2-HA…\n",
      "Table\n",
      "124935686 rows x 7 columns\n",
      "$time <timestamp[s]>\n",
      "$lat_min <double>\n",
      "$lat_max <double>\n",
      "$lon_min <double>\n",
      "$lon_max <double>\n",
      "$rain (mm/day) <double>\n",
      "$model <string>\n",
      "CPU times: user 114 ms, sys: 94.8 ms, total: 209 ms\n",
      "Wall time: 1.07 s\n"
     ]
    }
   ],
   "source": [
    "%%time\n",
    "%%R -i r_table\n",
    "\n",
    "# Check basic data structure\n",
    "suppressMessages({\n",
    "  library(dplyr)\n",
    "})\n",
    "\n",
    "glimpse <- r_table |>\n",
    "    glimpse() \n",
    "    \n",
    "print(glimpse)"
   ]
  },
  {
   "cell_type": "code",
   "execution_count": 26,
   "metadata": {},
   "outputs": [
    {
     "name": "stdout",
     "output_type": "stream",
     "text": [
      "# A tibble: 28 × 2\n",
      "   model                n\n",
      "   <chr>            <int>\n",
      " 1 combined      62467843\n",
      " 2 MPI-ESM1-2-HR  5154240\n",
      " 3 CMCC-CM2-HR4   3541230\n",
      " 4 CMCC-ESM2      3541230\n",
      " 5 TaiESM1        3541230\n",
      " 6 NorESM2-MM     3541230\n",
      " 7 CMCC-CM2-SR5   3541230\n",
      " 8 SAM0-UNICON    3541153\n",
      " 9 FGOALS-f3-L    3219300\n",
      "10 GFDL-CM4       3219300\n",
      "# ℹ 18 more rows\n",
      "# ℹ Use `print(n = ...)` to see more rows\n",
      "CPU times: user 2.12 s, sys: 861 ms, total: 2.98 s\n",
      "Wall time: 1.09 s\n"
     ]
    }
   ],
   "source": [
    "%%time\n",
    "%%R\n",
    "\n",
    "# Records by model, top 10\n",
    "model_rows <- r_table |> \n",
    "    count(model) |> \n",
    "    arrange(desc(n)) |> \n",
    "    collect()\n",
    "    \n",
    "print(model_rows)"
   ]
  },
  {
   "cell_type": "code",
   "execution_count": 27,
   "metadata": {},
   "outputs": [
    {
     "name": "stdout",
     "output_type": "stream",
     "text": [
      "There are 6438600 null registers in 'rain' column."
     ]
    }
   ],
   "source": [
    "%%R\n",
    "\n",
    "# Null count for target variable\n",
    "target_null <- r_table |>\n",
    "    filter(is.na(`rain (mm/day)`)) |> \n",
    "    count() |> \n",
    "    pull()\n",
    "    \n",
    "cat(\"There are\", target_null, \"null registers in 'rain' column.\")"
   ]
  },
  {
   "cell_type": "code",
   "execution_count": 28,
   "metadata": {},
   "outputs": [
    {
     "name": "stdout",
     "output_type": "stream",
     "text": [
      "[1] \"Mean values:\"\n",
      "      lat_min       lat_max       lon_min       lon_max rain (mm/day) \n",
      "    -33.10482     -31.92201     146.90590     148.28781       1.90117 \n",
      "[1] \"Min values:\"\n",
      "      lat_min       lat_max       lon_min       lon_max rain (mm/day) \n",
      "-3.646739e+01 -3.553233e+01  1.406250e+02  1.418750e+02 -3.807373e-12 \n",
      "[1] \"Max values:\"\n",
      "      lat_min       lat_max       lon_min       lon_max rain (mm/day) \n",
      "    -29.90000     -27.90606     153.75000     155.62500     432.93951 \n",
      "[1] \"Sd values:\"\n",
      "      lat_min       lat_max       lon_min       lon_max rain (mm/day) \n",
      "     1.963549      1.976543      3.793784      3.808084      5.585735 \n",
      "CPU times: user 25.4 s, sys: 11.4 s, total: 36.8 s\n",
      "Wall time: 51.1 s\n"
     ]
    }
   ],
   "source": [
    "%%time\n",
    "%%R\n",
    "\n",
    "# summary statistics for numeric columns\n",
    "not_null <- r_table |>\n",
    "    select(lat_min, lat_max, lon_min, lon_max, `rain (mm/day)`) |> \n",
    "    filter(!is.na(`rain (mm/day)`)) |> \n",
    "    collect()\n",
    "        \n",
    "max_values <- sapply(not_null, max)\n",
    "min_values <- sapply(not_null, min)\n",
    "mean_values <- sapply(not_null, mean)\n",
    "sd_values <- sapply(not_null, sd)\n",
    "\n",
    "print(\"Mean values:\")\n",
    "print(mean_values)\n",
    "print(\"Min values:\")\n",
    "print(min_values)\n",
    "print(\"Max values:\")\n",
    "print(max_values)\n",
    "print(\"Sd values:\")\n",
    "print(sd_values)"
   ]
  },
  {
   "cell_type": "markdown",
   "metadata": {},
   "source": [
    "## Specific expectations for this milestone \n",
    "\n",
    "- In this milestone, we are looking for a well-documented and self-explanatory notebook that explores different options to tackle big data on your laptop.\n",
    "- Please discuss any challenges or difficulties you faced when dealing with this large amount of data on your laptop. You can stop combining the data if it takes more than 30 minutes. Briefly explain your approach to overcoming the challenges or reasons why you could not overcome them.\n",
    "- For questions 5 and 6, you are free to choose any exploratory data analysis (EDA) task you want. Visualization is not necessary; summarizing the data is enough. However, if you want to install additional packages for visualization that are not included in the .yml file, feel free to install them on top of your notebook. If you want to install packages in R, you can do so using `install.packages(\"dplyr\")` under `%%R` magic cell.\n",
    "- If someone in your team is facing issues with using R in a Python notebook, you can ignore it, as you will not need it for any other milestones. The main purpose of showing it in the lecture was to introduce and get a feel for the serialization and deserialization concept.\n",
    "- You only need to ***compare*** the time with other team members for questions 4 and 5. You do not need to do this for question 6. You can use the following table to record your results. Feel free to add any other relevant columns.\n",
    "\n",
    "\n",
    "| Team Member | Operating System | RAM | Processor | Is SSD | Time taken |\n",
    "|:-----------:|:----------------:|:---:|:---------:|:------:|:----------:|\n",
    "| Member 1    |                  |     |           |        |            |\n",
    "| Member 2    |                  |     |           |        |            |\n",
    "| Member 3    |                  |     |           |        |            |\n",
    "| Member 4    |                  |     |           |        |            |"
   ]
  },
  {
   "cell_type": "markdown",
   "metadata": {},
   "source": [
    "## Submission instructions\n",
    "rubric={mechanics:5}\n",
    "\n",
    "In the textbox provided on Canvas for the Milestone 1 assignment include:\n",
    "\n",
    "- The GitHub URL to your notebook.\n",
    "\n",
    "As comment include\n",
    "- Repo link\n",
    "- Teamwork contract"
   ]
  }
 ],
 "metadata": {
  "kernelspec": {
   "display_name": "Python [conda env:525_dev]",
   "language": "python",
   "name": "conda-env-525_dev-py"
  },
  "language_info": {
   "codemirror_mode": {
    "name": "ipython",
    "version": 3
   },
   "file_extension": ".py",
   "mimetype": "text/x-python",
   "name": "python",
   "nbconvert_exporter": "python",
   "pygments_lexer": "ipython3",
   "version": "3.10.10"
  }
 },
 "nbformat": 4,
 "nbformat_minor": 4
}
