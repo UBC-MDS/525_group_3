{
 "cells": [
  {
   "cell_type": "markdown",
   "metadata": {},
   "source": [
    "# Task 3"
   ]
  },
  {
   "cell_type": "markdown",
   "metadata": {},
   "source": [
    "This notebook is part of Milestone 3, Question 3. You can work on this notebook on your laptop to develop your machine learning model using all the learnings from the previous courses. At the end of this notebook, when you are ready to train the model, you will need to obtain the hyperparameters from the hyperparameter tuning job that you will run in Milestone 3 Question 4 (i.e., the notebook named `Milestone3-Task4.ipynb`).\n",
    "\n",
    "PS: To speed up the process, you can test the model without the hyperparameters first. Once other team members obtain the hyperparameters, you can retrain the model using those hyperparameters and test it again."
   ]
  },
  {
   "cell_type": "code",
   "execution_count": 3,
   "metadata": {},
   "outputs": [],
   "source": [
    "# I asked them to use their laptop so they already got all these packages from previous courses.\n",
    "# %pip install joblib scikit-learn matplotlib s3fs"
   ]
  },
  {
   "cell_type": "markdown",
   "metadata": {},
   "source": [
    "# Imports"
   ]
  },
  {
   "cell_type": "code",
   "execution_count": 1,
   "metadata": {},
   "outputs": [],
   "source": [
    "import numpy as np\n",
    "import pandas as pd\n",
    "from joblib import dump, load\n",
    "from sklearn.metrics import mean_squared_error\n",
    "from sklearn.ensemble import RandomForestRegressor\n",
    "from sklearn.model_selection import train_test_split\n",
    "import matplotlib.pyplot as plt\n",
    "plt.style.use('ggplot')\n",
    "plt.rcParams.update({'font.size': 16, 'axes.labelweight': 'bold', 'figure.figsize': (8,6)})\n",
    "## add any other additional packages that you need. You are free to use any packages for vizualization."
   ]
  },
  {
   "cell_type": "markdown",
   "metadata": {},
   "source": [
    "## Part 1:"
   ]
  },
  {
   "cell_type": "markdown",
   "metadata": {},
   "source": [
    "Recall as a final goal of this project. We want to build and deploy ensemble machine learning models in the cloud, where features are outputs of different climate models and the target is the actual rainfall observation. In this milestone, you'll actually build these ensemble machine learning models in the cloud.  \n",
    "\n",
    "**Your tasks:**\n",
    "\n",
    "1. Read the data CSV from your s3 bucket. \n",
    "2. Drop rows with nans. \n",
    "3. Split the data into train (80%) and test (20%) portions with `random_state=123`. \n",
    "4. Carry out EDA of your choice on the train split. \n",
    "5. Train ensemble machine learning model using `RandomForestRegressor` and evaluate with metric of your choice (e.g., `RMSE`) by considering `Observed` as the target column. \n",
    "6. Discuss your results. Are you getting better results with ensemble models compared to the individual climate models? \n",
    "\n",
    "> Recall that individual columns in the data are predictions of different climate models. "
   ]
  },
  {
   "cell_type": "markdown",
   "metadata": {},
   "source": [
    "## Step 1 : Read the data CSV from your s3 bucket."
   ]
  },
  {
   "cell_type": "code",
   "execution_count": 2,
   "metadata": {},
   "outputs": [],
   "source": [
    "## Remember by default it looks for credentials in home directory. \n",
    "## Make sure your updated credentials are in home directory\n",
    "## or pass credentials explicitly and pass as storage_options=aws_credentials (not a good idea)\n",
    "# aws_credentials = {\"key\": \"\",\"secret\": \"\",\"token\":\"\"}\n",
    "# replace with s3 path to your data\n",
    "df = pd.read_csv(\"s3://mds-s3-3-arjun/output/ml_data_SYD.csv\", index_col=0, parse_dates=True)"
   ]
  },
  {
   "cell_type": "code",
   "execution_count": 3,
   "metadata": {},
   "outputs": [
    {
     "data": {
      "text/html": [
       "<div>\n",
       "<style scoped>\n",
       "    .dataframe tbody tr th:only-of-type {\n",
       "        vertical-align: middle;\n",
       "    }\n",
       "\n",
       "    .dataframe tbody tr th {\n",
       "        vertical-align: top;\n",
       "    }\n",
       "\n",
       "    .dataframe thead th {\n",
       "        text-align: right;\n",
       "    }\n",
       "</style>\n",
       "<table border=\"1\" class=\"dataframe\">\n",
       "  <thead>\n",
       "    <tr style=\"text-align: right;\">\n",
       "      <th></th>\n",
       "      <th>ACCESS-CM2</th>\n",
       "      <th>ACCESS-ESM1-5</th>\n",
       "      <th>AWI-ESM-1-1-LR</th>\n",
       "      <th>BCC-CSM2-MR</th>\n",
       "      <th>BCC-ESM1</th>\n",
       "      <th>CMCC-CM2-HR4</th>\n",
       "      <th>CMCC-CM2-SR5</th>\n",
       "      <th>CMCC-ESM2</th>\n",
       "      <th>CanESM5</th>\n",
       "      <th>EC-Earth3-Veg-LR</th>\n",
       "      <th>...</th>\n",
       "      <th>MPI-ESM-1-2-HAM</th>\n",
       "      <th>MPI-ESM1-2-HR</th>\n",
       "      <th>MPI-ESM1-2-LR</th>\n",
       "      <th>MRI-ESM2-0</th>\n",
       "      <th>NESM3</th>\n",
       "      <th>NorESM2-LM</th>\n",
       "      <th>NorESM2-MM</th>\n",
       "      <th>SAM0-UNICON</th>\n",
       "      <th>TaiESM1</th>\n",
       "      <th>observed rainfall</th>\n",
       "    </tr>\n",
       "    <tr>\n",
       "      <th>time</th>\n",
       "      <th></th>\n",
       "      <th></th>\n",
       "      <th></th>\n",
       "      <th></th>\n",
       "      <th></th>\n",
       "      <th></th>\n",
       "      <th></th>\n",
       "      <th></th>\n",
       "      <th></th>\n",
       "      <th></th>\n",
       "      <th></th>\n",
       "      <th></th>\n",
       "      <th></th>\n",
       "      <th></th>\n",
       "      <th></th>\n",
       "      <th></th>\n",
       "      <th></th>\n",
       "      <th></th>\n",
       "      <th></th>\n",
       "      <th></th>\n",
       "      <th></th>\n",
       "    </tr>\n",
       "  </thead>\n",
       "  <tbody>\n",
       "    <tr>\n",
       "      <th>1889-01-01</th>\n",
       "      <td>0.040427</td>\n",
       "      <td>1.814552</td>\n",
       "      <td>3.557933e+01</td>\n",
       "      <td>4.268112e+00</td>\n",
       "      <td>1.107466e-03</td>\n",
       "      <td>1.141054e+01</td>\n",
       "      <td>3.322009e-08</td>\n",
       "      <td>2.668800</td>\n",
       "      <td>1.321215</td>\n",
       "      <td>1.515293</td>\n",
       "      <td>...</td>\n",
       "      <td>4.244226e-13</td>\n",
       "      <td>1.390174e-13</td>\n",
       "      <td>6.537884e-05</td>\n",
       "      <td>3.445495e-06</td>\n",
       "      <td>1.576096e+01</td>\n",
       "      <td>4.759651e-05</td>\n",
       "      <td>2.451075</td>\n",
       "      <td>0.221324</td>\n",
       "      <td>2.257933</td>\n",
       "      <td>0.006612</td>\n",
       "    </tr>\n",
       "    <tr>\n",
       "      <th>1889-01-02</th>\n",
       "      <td>0.073777</td>\n",
       "      <td>0.303965</td>\n",
       "      <td>4.596520e+00</td>\n",
       "      <td>1.190141e+00</td>\n",
       "      <td>1.015323e-04</td>\n",
       "      <td>4.014984e+00</td>\n",
       "      <td>1.312700e+00</td>\n",
       "      <td>0.946211</td>\n",
       "      <td>2.788724</td>\n",
       "      <td>4.771376</td>\n",
       "      <td>...</td>\n",
       "      <td>4.409552e+00</td>\n",
       "      <td>1.222283e-01</td>\n",
       "      <td>1.049131e-13</td>\n",
       "      <td>4.791993e-09</td>\n",
       "      <td>3.675510e-01</td>\n",
       "      <td>4.350863e-01</td>\n",
       "      <td>0.477231</td>\n",
       "      <td>3.757179</td>\n",
       "      <td>2.287381</td>\n",
       "      <td>0.090422</td>\n",
       "    </tr>\n",
       "    <tr>\n",
       "      <th>1889-01-03</th>\n",
       "      <td>0.232656</td>\n",
       "      <td>0.019976</td>\n",
       "      <td>5.927467e+00</td>\n",
       "      <td>1.003845e-09</td>\n",
       "      <td>1.760345e-05</td>\n",
       "      <td>9.660564e+00</td>\n",
       "      <td>9.103720e+00</td>\n",
       "      <td>0.431999</td>\n",
       "      <td>0.003672</td>\n",
       "      <td>4.233980</td>\n",
       "      <td>...</td>\n",
       "      <td>2.269300e-01</td>\n",
       "      <td>3.762301e-01</td>\n",
       "      <td>9.758706e-14</td>\n",
       "      <td>6.912302e-01</td>\n",
       "      <td>1.562869e-01</td>\n",
       "      <td>9.561101e+00</td>\n",
       "      <td>0.023083</td>\n",
       "      <td>0.253357</td>\n",
       "      <td>1.199909</td>\n",
       "      <td>1.401452</td>\n",
       "    </tr>\n",
       "    <tr>\n",
       "      <th>1889-01-04</th>\n",
       "      <td>0.911319</td>\n",
       "      <td>13.623777</td>\n",
       "      <td>8.029624e+00</td>\n",
       "      <td>8.225226e-02</td>\n",
       "      <td>1.808932e-01</td>\n",
       "      <td>3.951528e+00</td>\n",
       "      <td>1.317160e+01</td>\n",
       "      <td>0.368693</td>\n",
       "      <td>0.013578</td>\n",
       "      <td>15.252495</td>\n",
       "      <td>...</td>\n",
       "      <td>2.344586e-02</td>\n",
       "      <td>4.214019e-01</td>\n",
       "      <td>7.060915e-03</td>\n",
       "      <td>3.835721e-02</td>\n",
       "      <td>2.472225e-07</td>\n",
       "      <td>5.301038e-01</td>\n",
       "      <td>0.002699</td>\n",
       "      <td>2.185453</td>\n",
       "      <td>2.106737</td>\n",
       "      <td>14.869798</td>\n",
       "    </tr>\n",
       "    <tr>\n",
       "      <th>1889-01-05</th>\n",
       "      <td>0.698013</td>\n",
       "      <td>0.021048</td>\n",
       "      <td>2.132686e+00</td>\n",
       "      <td>2.496841e+00</td>\n",
       "      <td>4.708019e-09</td>\n",
       "      <td>2.766362e+00</td>\n",
       "      <td>1.822940e+01</td>\n",
       "      <td>0.339267</td>\n",
       "      <td>0.002468</td>\n",
       "      <td>11.920357</td>\n",
       "      <td>...</td>\n",
       "      <td>4.270161e-13</td>\n",
       "      <td>1.879692e-01</td>\n",
       "      <td>4.504985e+00</td>\n",
       "      <td>3.506923e-07</td>\n",
       "      <td>1.949792e-13</td>\n",
       "      <td>1.460928e-10</td>\n",
       "      <td>0.001026</td>\n",
       "      <td>2.766507</td>\n",
       "      <td>1.763335</td>\n",
       "      <td>0.467628</td>\n",
       "    </tr>\n",
       "    <tr>\n",
       "      <th>...</th>\n",
       "      <td>...</td>\n",
       "      <td>...</td>\n",
       "      <td>...</td>\n",
       "      <td>...</td>\n",
       "      <td>...</td>\n",
       "      <td>...</td>\n",
       "      <td>...</td>\n",
       "      <td>...</td>\n",
       "      <td>...</td>\n",
       "      <td>...</td>\n",
       "      <td>...</td>\n",
       "      <td>...</td>\n",
       "      <td>...</td>\n",
       "      <td>...</td>\n",
       "      <td>...</td>\n",
       "      <td>...</td>\n",
       "      <td>...</td>\n",
       "      <td>...</td>\n",
       "      <td>...</td>\n",
       "      <td>...</td>\n",
       "      <td>...</td>\n",
       "    </tr>\n",
       "    <tr>\n",
       "      <th>2014-12-27</th>\n",
       "      <td>0.033748</td>\n",
       "      <td>0.123476</td>\n",
       "      <td>1.451179e+00</td>\n",
       "      <td>3.852845e+01</td>\n",
       "      <td>2.061717e-03</td>\n",
       "      <td>8.179260e-09</td>\n",
       "      <td>1.171263e-02</td>\n",
       "      <td>0.090786</td>\n",
       "      <td>59.895054</td>\n",
       "      <td>5.071783</td>\n",
       "      <td>...</td>\n",
       "      <td>4.726998e-13</td>\n",
       "      <td>1.326889e-01</td>\n",
       "      <td>1.827857e+00</td>\n",
       "      <td>6.912631e-03</td>\n",
       "      <td>2.171327e-03</td>\n",
       "      <td>1.620489e+00</td>\n",
       "      <td>2.084252</td>\n",
       "      <td>0.868046</td>\n",
       "      <td>17.444923</td>\n",
       "      <td>0.037472</td>\n",
       "    </tr>\n",
       "    <tr>\n",
       "      <th>2014-12-28</th>\n",
       "      <td>0.094198</td>\n",
       "      <td>2.645497</td>\n",
       "      <td>4.249335e+01</td>\n",
       "      <td>5.833800e-01</td>\n",
       "      <td>5.939502e-09</td>\n",
       "      <td>8.146937e-01</td>\n",
       "      <td>4.938900e-01</td>\n",
       "      <td>0.000000</td>\n",
       "      <td>0.512632</td>\n",
       "      <td>1.578188</td>\n",
       "      <td>...</td>\n",
       "      <td>4.609420e-13</td>\n",
       "      <td>1.644482e+00</td>\n",
       "      <td>7.242920e-01</td>\n",
       "      <td>2.836752e-03</td>\n",
       "      <td>1.344768e+01</td>\n",
       "      <td>2.391160e+00</td>\n",
       "      <td>1.644527</td>\n",
       "      <td>0.782258</td>\n",
       "      <td>1.569647</td>\n",
       "      <td>0.158061</td>\n",
       "    </tr>\n",
       "    <tr>\n",
       "      <th>2014-12-29</th>\n",
       "      <td>0.005964</td>\n",
       "      <td>3.041667</td>\n",
       "      <td>2.898325e+00</td>\n",
       "      <td>9.359547e-02</td>\n",
       "      <td>2.000051e-08</td>\n",
       "      <td>2.532205e-01</td>\n",
       "      <td>1.306046e+00</td>\n",
       "      <td>0.000002</td>\n",
       "      <td>37.169670</td>\n",
       "      <td>1.565885</td>\n",
       "      <td>...</td>\n",
       "      <td>2.016156e+01</td>\n",
       "      <td>1.506439e+00</td>\n",
       "      <td>1.049481e-01</td>\n",
       "      <td>8.137182e+00</td>\n",
       "      <td>2.547820e+01</td>\n",
       "      <td>1.987695e-12</td>\n",
       "      <td>0.205036</td>\n",
       "      <td>2.140724</td>\n",
       "      <td>1.444630</td>\n",
       "      <td>0.025719</td>\n",
       "    </tr>\n",
       "    <tr>\n",
       "      <th>2014-12-30</th>\n",
       "      <td>0.000028</td>\n",
       "      <td>1.131412</td>\n",
       "      <td>2.516381e-01</td>\n",
       "      <td>1.715028e-01</td>\n",
       "      <td>7.191735e-05</td>\n",
       "      <td>8.169252e-02</td>\n",
       "      <td>1.722262e-01</td>\n",
       "      <td>0.788577</td>\n",
       "      <td>7.361246</td>\n",
       "      <td>0.025749</td>\n",
       "      <td>...</td>\n",
       "      <td>9.420544e+00</td>\n",
       "      <td>6.242895e+00</td>\n",
       "      <td>1.245115e-01</td>\n",
       "      <td>9.305263e-03</td>\n",
       "      <td>4.192948e+00</td>\n",
       "      <td>2.150346e+00</td>\n",
       "      <td>0.000017</td>\n",
       "      <td>29.714693</td>\n",
       "      <td>0.716019</td>\n",
       "      <td>0.729390</td>\n",
       "    </tr>\n",
       "    <tr>\n",
       "      <th>2014-12-31</th>\n",
       "      <td>0.532747</td>\n",
       "      <td>2.370896</td>\n",
       "      <td>1.047835e-13</td>\n",
       "      <td>4.437736e+00</td>\n",
       "      <td>2.863683e-01</td>\n",
       "      <td>6.343592e+00</td>\n",
       "      <td>6.368303e-01</td>\n",
       "      <td>0.442130</td>\n",
       "      <td>0.306608</td>\n",
       "      <td>0.106525</td>\n",
       "      <td>...</td>\n",
       "      <td>1.031899e+01</td>\n",
       "      <td>4.765813e+01</td>\n",
       "      <td>3.274323e-01</td>\n",
       "      <td>6.854985e-11</td>\n",
       "      <td>2.067847e+00</td>\n",
       "      <td>2.349716e+01</td>\n",
       "      <td>0.035319</td>\n",
       "      <td>59.724064</td>\n",
       "      <td>3.240184</td>\n",
       "      <td>0.008076</td>\n",
       "    </tr>\n",
       "  </tbody>\n",
       "</table>\n",
       "<p>46020 rows × 26 columns</p>\n",
       "</div>"
      ],
      "text/plain": [
       "            ACCESS-CM2  ACCESS-ESM1-5  AWI-ESM-1-1-LR   BCC-CSM2-MR  \\\n",
       "time                                                                  \n",
       "1889-01-01    0.040427       1.814552    3.557933e+01  4.268112e+00   \n",
       "1889-01-02    0.073777       0.303965    4.596520e+00  1.190141e+00   \n",
       "1889-01-03    0.232656       0.019976    5.927467e+00  1.003845e-09   \n",
       "1889-01-04    0.911319      13.623777    8.029624e+00  8.225226e-02   \n",
       "1889-01-05    0.698013       0.021048    2.132686e+00  2.496841e+00   \n",
       "...                ...            ...             ...           ...   \n",
       "2014-12-27    0.033748       0.123476    1.451179e+00  3.852845e+01   \n",
       "2014-12-28    0.094198       2.645497    4.249335e+01  5.833800e-01   \n",
       "2014-12-29    0.005964       3.041667    2.898325e+00  9.359547e-02   \n",
       "2014-12-30    0.000028       1.131412    2.516381e-01  1.715028e-01   \n",
       "2014-12-31    0.532747       2.370896    1.047835e-13  4.437736e+00   \n",
       "\n",
       "                BCC-ESM1  CMCC-CM2-HR4  CMCC-CM2-SR5  CMCC-ESM2    CanESM5  \\\n",
       "time                                                                         \n",
       "1889-01-01  1.107466e-03  1.141054e+01  3.322009e-08   2.668800   1.321215   \n",
       "1889-01-02  1.015323e-04  4.014984e+00  1.312700e+00   0.946211   2.788724   \n",
       "1889-01-03  1.760345e-05  9.660564e+00  9.103720e+00   0.431999   0.003672   \n",
       "1889-01-04  1.808932e-01  3.951528e+00  1.317160e+01   0.368693   0.013578   \n",
       "1889-01-05  4.708019e-09  2.766362e+00  1.822940e+01   0.339267   0.002468   \n",
       "...                  ...           ...           ...        ...        ...   \n",
       "2014-12-27  2.061717e-03  8.179260e-09  1.171263e-02   0.090786  59.895054   \n",
       "2014-12-28  5.939502e-09  8.146937e-01  4.938900e-01   0.000000   0.512632   \n",
       "2014-12-29  2.000051e-08  2.532205e-01  1.306046e+00   0.000002  37.169670   \n",
       "2014-12-30  7.191735e-05  8.169252e-02  1.722262e-01   0.788577   7.361246   \n",
       "2014-12-31  2.863683e-01  6.343592e+00  6.368303e-01   0.442130   0.306608   \n",
       "\n",
       "            EC-Earth3-Veg-LR  ...  MPI-ESM-1-2-HAM  MPI-ESM1-2-HR  \\\n",
       "time                          ...                                   \n",
       "1889-01-01          1.515293  ...     4.244226e-13   1.390174e-13   \n",
       "1889-01-02          4.771376  ...     4.409552e+00   1.222283e-01   \n",
       "1889-01-03          4.233980  ...     2.269300e-01   3.762301e-01   \n",
       "1889-01-04         15.252495  ...     2.344586e-02   4.214019e-01   \n",
       "1889-01-05         11.920357  ...     4.270161e-13   1.879692e-01   \n",
       "...                      ...  ...              ...            ...   \n",
       "2014-12-27          5.071783  ...     4.726998e-13   1.326889e-01   \n",
       "2014-12-28          1.578188  ...     4.609420e-13   1.644482e+00   \n",
       "2014-12-29          1.565885  ...     2.016156e+01   1.506439e+00   \n",
       "2014-12-30          0.025749  ...     9.420544e+00   6.242895e+00   \n",
       "2014-12-31          0.106525  ...     1.031899e+01   4.765813e+01   \n",
       "\n",
       "            MPI-ESM1-2-LR    MRI-ESM2-0         NESM3    NorESM2-LM  \\\n",
       "time                                                                  \n",
       "1889-01-01   6.537884e-05  3.445495e-06  1.576096e+01  4.759651e-05   \n",
       "1889-01-02   1.049131e-13  4.791993e-09  3.675510e-01  4.350863e-01   \n",
       "1889-01-03   9.758706e-14  6.912302e-01  1.562869e-01  9.561101e+00   \n",
       "1889-01-04   7.060915e-03  3.835721e-02  2.472225e-07  5.301038e-01   \n",
       "1889-01-05   4.504985e+00  3.506923e-07  1.949792e-13  1.460928e-10   \n",
       "...                   ...           ...           ...           ...   \n",
       "2014-12-27   1.827857e+00  6.912631e-03  2.171327e-03  1.620489e+00   \n",
       "2014-12-28   7.242920e-01  2.836752e-03  1.344768e+01  2.391160e+00   \n",
       "2014-12-29   1.049481e-01  8.137182e+00  2.547820e+01  1.987695e-12   \n",
       "2014-12-30   1.245115e-01  9.305263e-03  4.192948e+00  2.150346e+00   \n",
       "2014-12-31   3.274323e-01  6.854985e-11  2.067847e+00  2.349716e+01   \n",
       "\n",
       "            NorESM2-MM  SAM0-UNICON    TaiESM1  observed rainfall  \n",
       "time                                                               \n",
       "1889-01-01    2.451075     0.221324   2.257933           0.006612  \n",
       "1889-01-02    0.477231     3.757179   2.287381           0.090422  \n",
       "1889-01-03    0.023083     0.253357   1.199909           1.401452  \n",
       "1889-01-04    0.002699     2.185453   2.106737          14.869798  \n",
       "1889-01-05    0.001026     2.766507   1.763335           0.467628  \n",
       "...                ...          ...        ...                ...  \n",
       "2014-12-27    2.084252     0.868046  17.444923           0.037472  \n",
       "2014-12-28    1.644527     0.782258   1.569647           0.158061  \n",
       "2014-12-29    0.205036     2.140724   1.444630           0.025719  \n",
       "2014-12-30    0.000017    29.714693   0.716019           0.729390  \n",
       "2014-12-31    0.035319    59.724064   3.240184           0.008076  \n",
       "\n",
       "[46020 rows x 26 columns]"
      ]
     },
     "execution_count": 3,
     "metadata": {},
     "output_type": "execute_result"
    }
   ],
   "source": [
    "## Use your ML skills to get from step 1 to step 6\n",
    "df"
   ]
  },
  {
   "cell_type": "markdown",
   "metadata": {},
   "source": [
    "## Step 2: Drop rows with nans."
   ]
  },
  {
   "cell_type": "code",
   "execution_count": 4,
   "metadata": {},
   "outputs": [],
   "source": [
    "data = df.dropna()"
   ]
  },
  {
   "cell_type": "code",
   "execution_count": 6,
   "metadata": {},
   "outputs": [
    {
     "data": {
      "text/plain": [
       "(45989, 26)"
      ]
     },
     "execution_count": 6,
     "metadata": {},
     "output_type": "execute_result"
    }
   ],
   "source": [
    "data.shape"
   ]
  },
  {
   "cell_type": "markdown",
   "metadata": {},
   "source": [
    "## Step 3: Split the data into train (80%) and test (20%)."
   ]
  },
  {
   "cell_type": "code",
   "execution_count": 5,
   "metadata": {},
   "outputs": [],
   "source": [
    "train_df, test_df = train_test_split(data, test_size=0.2, random_state=123)"
   ]
  },
  {
   "cell_type": "markdown",
   "metadata": {},
   "source": [
    "## Step 4: Carry out EDA of your choice on the train split."
   ]
  },
  {
   "cell_type": "code",
   "execution_count": 13,
   "metadata": {},
   "outputs": [],
   "source": [
    "# Todo"
   ]
  },
  {
   "cell_type": "markdown",
   "metadata": {},
   "source": [
    "## Step 5: rain ensemble machine learning model using RandomForestRegressor"
   ]
  },
  {
   "cell_type": "code",
   "execution_count": 6,
   "metadata": {},
   "outputs": [],
   "source": [
    "# Separate features and target\n",
    "X_train = train_df.drop('observed rainfall', axis=1)\n",
    "y_train = train_df['observed rainfall']\n",
    "X_test = test_df.drop('observed rainfall', axis=1)\n",
    "y_test = test_df['observed rainfall']"
   ]
  },
  {
   "cell_type": "code",
   "execution_count": 7,
   "metadata": {},
   "outputs": [
    {
     "data": {
      "text/html": [
       "<style>#sk-container-id-1 {color: black;background-color: white;}#sk-container-id-1 pre{padding: 0;}#sk-container-id-1 div.sk-toggleable {background-color: white;}#sk-container-id-1 label.sk-toggleable__label {cursor: pointer;display: block;width: 100%;margin-bottom: 0;padding: 0.3em;box-sizing: border-box;text-align: center;}#sk-container-id-1 label.sk-toggleable__label-arrow:before {content: \"▸\";float: left;margin-right: 0.25em;color: #696969;}#sk-container-id-1 label.sk-toggleable__label-arrow:hover:before {color: black;}#sk-container-id-1 div.sk-estimator:hover label.sk-toggleable__label-arrow:before {color: black;}#sk-container-id-1 div.sk-toggleable__content {max-height: 0;max-width: 0;overflow: hidden;text-align: left;background-color: #f0f8ff;}#sk-container-id-1 div.sk-toggleable__content pre {margin: 0.2em;color: black;border-radius: 0.25em;background-color: #f0f8ff;}#sk-container-id-1 input.sk-toggleable__control:checked~div.sk-toggleable__content {max-height: 200px;max-width: 100%;overflow: auto;}#sk-container-id-1 input.sk-toggleable__control:checked~label.sk-toggleable__label-arrow:before {content: \"▾\";}#sk-container-id-1 div.sk-estimator input.sk-toggleable__control:checked~label.sk-toggleable__label {background-color: #d4ebff;}#sk-container-id-1 div.sk-label input.sk-toggleable__control:checked~label.sk-toggleable__label {background-color: #d4ebff;}#sk-container-id-1 input.sk-hidden--visually {border: 0;clip: rect(1px 1px 1px 1px);clip: rect(1px, 1px, 1px, 1px);height: 1px;margin: -1px;overflow: hidden;padding: 0;position: absolute;width: 1px;}#sk-container-id-1 div.sk-estimator {font-family: monospace;background-color: #f0f8ff;border: 1px dotted black;border-radius: 0.25em;box-sizing: border-box;margin-bottom: 0.5em;}#sk-container-id-1 div.sk-estimator:hover {background-color: #d4ebff;}#sk-container-id-1 div.sk-parallel-item::after {content: \"\";width: 100%;border-bottom: 1px solid gray;flex-grow: 1;}#sk-container-id-1 div.sk-label:hover label.sk-toggleable__label {background-color: #d4ebff;}#sk-container-id-1 div.sk-serial::before {content: \"\";position: absolute;border-left: 1px solid gray;box-sizing: border-box;top: 0;bottom: 0;left: 50%;z-index: 0;}#sk-container-id-1 div.sk-serial {display: flex;flex-direction: column;align-items: center;background-color: white;padding-right: 0.2em;padding-left: 0.2em;position: relative;}#sk-container-id-1 div.sk-item {position: relative;z-index: 1;}#sk-container-id-1 div.sk-parallel {display: flex;align-items: stretch;justify-content: center;background-color: white;position: relative;}#sk-container-id-1 div.sk-item::before, #sk-container-id-1 div.sk-parallel-item::before {content: \"\";position: absolute;border-left: 1px solid gray;box-sizing: border-box;top: 0;bottom: 0;left: 50%;z-index: -1;}#sk-container-id-1 div.sk-parallel-item {display: flex;flex-direction: column;z-index: 1;position: relative;background-color: white;}#sk-container-id-1 div.sk-parallel-item:first-child::after {align-self: flex-end;width: 50%;}#sk-container-id-1 div.sk-parallel-item:last-child::after {align-self: flex-start;width: 50%;}#sk-container-id-1 div.sk-parallel-item:only-child::after {width: 0;}#sk-container-id-1 div.sk-dashed-wrapped {border: 1px dashed gray;margin: 0 0.4em 0.5em 0.4em;box-sizing: border-box;padding-bottom: 0.4em;background-color: white;}#sk-container-id-1 div.sk-label label {font-family: monospace;font-weight: bold;display: inline-block;line-height: 1.2em;}#sk-container-id-1 div.sk-label-container {text-align: center;}#sk-container-id-1 div.sk-container {/* jupyter's `normalize.less` sets `[hidden] { display: none; }` but bootstrap.min.css set `[hidden] { display: none !important; }` so we also need the `!important` here to be able to override the default hidden behavior on the sphinx rendered scikit-learn.org. See: https://github.com/scikit-learn/scikit-learn/issues/21755 */display: inline-block !important;position: relative;}#sk-container-id-1 div.sk-text-repr-fallback {display: none;}</style><div id=\"sk-container-id-1\" class=\"sk-top-container\"><div class=\"sk-text-repr-fallback\"><pre>RandomForestRegressor(random_state=123)</pre><b>In a Jupyter environment, please rerun this cell to show the HTML representation or trust the notebook. <br />On GitHub, the HTML representation is unable to render, please try loading this page with nbviewer.org.</b></div><div class=\"sk-container\" hidden><div class=\"sk-item\"><div class=\"sk-estimator sk-toggleable\"><input class=\"sk-toggleable__control sk-hidden--visually\" id=\"sk-estimator-id-1\" type=\"checkbox\" checked><label for=\"sk-estimator-id-1\" class=\"sk-toggleable__label sk-toggleable__label-arrow\">RandomForestRegressor</label><div class=\"sk-toggleable__content\"><pre>RandomForestRegressor(random_state=123)</pre></div></div></div></div></div>"
      ],
      "text/plain": [
       "RandomForestRegressor(random_state=123)"
      ]
     },
     "execution_count": 7,
     "metadata": {},
     "output_type": "execute_result"
    }
   ],
   "source": [
    "rf = RandomForestRegressor(random_state=123)\n",
    "rf.fit(X_train, y_train)"
   ]
  },
  {
   "cell_type": "code",
   "execution_count": 8,
   "metadata": {},
   "outputs": [],
   "source": [
    "# Make prediction on train\n",
    "y_pred_train = rf.predict(X_train)\n",
    "\n",
    "# Make predictions on test\n",
    "y_pred_test = rf.predict(X_test)"
   ]
  },
  {
   "cell_type": "code",
   "execution_count": 9,
   "metadata": {},
   "outputs": [
    {
     "name": "stdout",
     "output_type": "stream",
     "text": [
      "RMSE for test data: 3.2415357124566713\n",
      "RMSE for test data: 8.081429130013323\n"
     ]
    }
   ],
   "source": [
    "rmse_train = np.sqrt(mean_squared_error(y_train, y_pred_train))\n",
    "print(f\"RMSE for test data: {rmse_train}\")\n",
    "\n",
    "rmse_test = np.sqrt(mean_squared_error(y_test, y_pred_test))\n",
    "print(f\"RMSE for test data: {rmse_test}\")"
   ]
  },
  {
   "cell_type": "markdown",
   "metadata": {},
   "source": [
    "## Step 6 - Discuss your results."
   ]
  },
  {
   "cell_type": "code",
   "execution_count": 10,
   "metadata": {},
   "outputs": [
    {
     "name": "stdout",
     "output_type": "stream",
     "text": [
      "26.8 ns ± 0.304 ns per loop (mean ± std. dev. of 7 runs, 10,000,000 loops each)\n"
     ]
    }
   ],
   "source": [
    "# Compare the results of the ensemble model with individual climate models:\n",
    "\n",
    "rmse_df = pd.DataFrame({\n",
    "    \"Model\": X_test.columns,\n",
    "    \"Train RMSE\" : [mean_squared_error(y_train, X_train[column], squared=False) for column in X_train.columns],\n",
    "    \"Test RMSE\": [mean_squared_error(y_test, X_test[column], squared=False) for column in X_test.columns]\n",
    "}).set_index(\"Model\").sort_values(\"Test RMSE\")\n",
    "%timeit rmse_df"
   ]
  },
  {
   "cell_type": "code",
   "execution_count": 11,
   "metadata": {},
   "outputs": [
    {
     "data": {
      "text/html": [
       "<div>\n",
       "<style scoped>\n",
       "    .dataframe tbody tr th:only-of-type {\n",
       "        vertical-align: middle;\n",
       "    }\n",
       "\n",
       "    .dataframe tbody tr th {\n",
       "        vertical-align: top;\n",
       "    }\n",
       "\n",
       "    .dataframe thead th {\n",
       "        text-align: right;\n",
       "    }\n",
       "</style>\n",
       "<table border=\"1\" class=\"dataframe\">\n",
       "  <thead>\n",
       "    <tr style=\"text-align: right;\">\n",
       "      <th></th>\n",
       "      <th>Train RMSE</th>\n",
       "      <th>Test RMSE</th>\n",
       "    </tr>\n",
       "    <tr>\n",
       "      <th>Model</th>\n",
       "      <th></th>\n",
       "      <th></th>\n",
       "    </tr>\n",
       "  </thead>\n",
       "  <tbody>\n",
       "    <tr>\n",
       "      <th>FGOALS-g3</th>\n",
       "      <td>9.497266</td>\n",
       "      <td>8.825898</td>\n",
       "    </tr>\n",
       "    <tr>\n",
       "      <th>KIOST-ESM</th>\n",
       "      <td>9.364012</td>\n",
       "      <td>8.929471</td>\n",
       "    </tr>\n",
       "    <tr>\n",
       "      <th>MPI-ESM1-2-HR</th>\n",
       "      <td>9.697459</td>\n",
       "      <td>9.136171</td>\n",
       "    </tr>\n",
       "    <tr>\n",
       "      <th>NESM3</th>\n",
       "      <td>9.559615</td>\n",
       "      <td>9.238419</td>\n",
       "    </tr>\n",
       "    <tr>\n",
       "      <th>MPI-ESM1-2-LR</th>\n",
       "      <td>9.907773</td>\n",
       "      <td>9.358796</td>\n",
       "    </tr>\n",
       "    <tr>\n",
       "      <th>GFDL-CM4</th>\n",
       "      <td>10.151643</td>\n",
       "      <td>9.460040</td>\n",
       "    </tr>\n",
       "    <tr>\n",
       "      <th>MRI-ESM2-0</th>\n",
       "      <td>9.716749</td>\n",
       "      <td>9.494019</td>\n",
       "    </tr>\n",
       "    <tr>\n",
       "      <th>EC-Earth3-Veg-LR</th>\n",
       "      <td>10.125208</td>\n",
       "      <td>9.560820</td>\n",
       "    </tr>\n",
       "    <tr>\n",
       "      <th>NorESM2-LM</th>\n",
       "      <td>10.072092</td>\n",
       "      <td>9.801393</td>\n",
       "    </tr>\n",
       "    <tr>\n",
       "      <th>CMCC-CM2-HR4</th>\n",
       "      <td>10.529156</td>\n",
       "      <td>9.929779</td>\n",
       "    </tr>\n",
       "    <tr>\n",
       "      <th>BCC-ESM1</th>\n",
       "      <td>10.239976</td>\n",
       "      <td>9.948806</td>\n",
       "    </tr>\n",
       "    <tr>\n",
       "      <th>BCC-CSM2-MR</th>\n",
       "      <td>10.457316</td>\n",
       "      <td>10.115109</td>\n",
       "    </tr>\n",
       "    <tr>\n",
       "      <th>CanESM5</th>\n",
       "      <td>10.819270</td>\n",
       "      <td>10.155573</td>\n",
       "    </tr>\n",
       "    <tr>\n",
       "      <th>MPI-ESM-1-2-HAM</th>\n",
       "      <td>10.755612</td>\n",
       "      <td>10.367871</td>\n",
       "    </tr>\n",
       "    <tr>\n",
       "      <th>ACCESS-CM2</th>\n",
       "      <td>10.714688</td>\n",
       "      <td>10.455056</td>\n",
       "    </tr>\n",
       "    <tr>\n",
       "      <th>ACCESS-ESM1-5</th>\n",
       "      <td>10.682993</td>\n",
       "      <td>10.536781</td>\n",
       "    </tr>\n",
       "    <tr>\n",
       "      <th>CMCC-ESM2</th>\n",
       "      <td>10.876342</td>\n",
       "      <td>10.601826</td>\n",
       "    </tr>\n",
       "    <tr>\n",
       "      <th>NorESM2-MM</th>\n",
       "      <td>10.744715</td>\n",
       "      <td>10.696613</td>\n",
       "    </tr>\n",
       "    <tr>\n",
       "      <th>AWI-ESM-1-1-LR</th>\n",
       "      <td>10.948302</td>\n",
       "      <td>10.709676</td>\n",
       "    </tr>\n",
       "    <tr>\n",
       "      <th>CMCC-CM2-SR5</th>\n",
       "      <td>11.121697</td>\n",
       "      <td>10.741438</td>\n",
       "    </tr>\n",
       "    <tr>\n",
       "      <th>TaiESM1</th>\n",
       "      <td>11.198385</td>\n",
       "      <td>10.772002</td>\n",
       "    </tr>\n",
       "    <tr>\n",
       "      <th>INM-CM4-8</th>\n",
       "      <td>11.220711</td>\n",
       "      <td>10.924185</td>\n",
       "    </tr>\n",
       "    <tr>\n",
       "      <th>SAM0-UNICON</th>\n",
       "      <td>11.451357</td>\n",
       "      <td>11.149543</td>\n",
       "    </tr>\n",
       "    <tr>\n",
       "      <th>MIROC6</th>\n",
       "      <td>11.267267</td>\n",
       "      <td>11.226747</td>\n",
       "    </tr>\n",
       "    <tr>\n",
       "      <th>INM-CM5-0</th>\n",
       "      <td>11.832040</td>\n",
       "      <td>11.428740</td>\n",
       "    </tr>\n",
       "  </tbody>\n",
       "</table>\n",
       "</div>"
      ],
      "text/plain": [
       "                  Train RMSE  Test RMSE\n",
       "Model                                  \n",
       "FGOALS-g3           9.497266   8.825898\n",
       "KIOST-ESM           9.364012   8.929471\n",
       "MPI-ESM1-2-HR       9.697459   9.136171\n",
       "NESM3               9.559615   9.238419\n",
       "MPI-ESM1-2-LR       9.907773   9.358796\n",
       "GFDL-CM4           10.151643   9.460040\n",
       "MRI-ESM2-0          9.716749   9.494019\n",
       "EC-Earth3-Veg-LR   10.125208   9.560820\n",
       "NorESM2-LM         10.072092   9.801393\n",
       "CMCC-CM2-HR4       10.529156   9.929779\n",
       "BCC-ESM1           10.239976   9.948806\n",
       "BCC-CSM2-MR        10.457316  10.115109\n",
       "CanESM5            10.819270  10.155573\n",
       "MPI-ESM-1-2-HAM    10.755612  10.367871\n",
       "ACCESS-CM2         10.714688  10.455056\n",
       "ACCESS-ESM1-5      10.682993  10.536781\n",
       "CMCC-ESM2          10.876342  10.601826\n",
       "NorESM2-MM         10.744715  10.696613\n",
       "AWI-ESM-1-1-LR     10.948302  10.709676\n",
       "CMCC-CM2-SR5       11.121697  10.741438\n",
       "TaiESM1            11.198385  10.772002\n",
       "INM-CM4-8          11.220711  10.924185\n",
       "SAM0-UNICON        11.451357  11.149543\n",
       "MIROC6             11.267267  11.226747\n",
       "INM-CM5-0          11.832040  11.428740"
      ]
     },
     "execution_count": 11,
     "metadata": {},
     "output_type": "execute_result"
    }
   ],
   "source": [
    "rmse_df"
   ]
  },
  {
   "cell_type": "markdown",
   "metadata": {},
   "source": [
    "Comparing the RF ensemble model's performance to the individual climate models, we can see that the RF model outperforms all individual models in terms of RMSE for both the training and test datasets. The RF model's Test RMSE of 8.081429130013323 is lower than the best performing individual model (FGOALS-g3) with a Test RMSE of 8.825898.\n",
    "\n",
    "In conclusion, we are getting better results with the ensemble model (Random Forest) compared to the individual climate models, as evidenced by the lower RMSE values."
   ]
  },
  {
   "cell_type": "markdown",
   "metadata": {},
   "source": [
    "## Part 2:"
   ]
  },
  {
   "cell_type": "markdown",
   "metadata": {},
   "source": [
    "### Preparation for deploying model next week"
   ]
  },
  {
   "cell_type": "markdown",
   "metadata": {},
   "source": [
    "***NOTE: Complete Question 4 (`Milestone3-task4.ipynb`) from the milestone 3 before coming here***"
   ]
  },
  {
   "cell_type": "markdown",
   "metadata": {},
   "source": [
    "We’ve found the best hyperparameter settings with MLlib (from the Question 4 from milestone3), here we then use the same hyperparameters to train a scikit-learn model. "
   ]
  },
  {
   "cell_type": "code",
   "execution_count": 12,
   "metadata": {},
   "outputs": [
    {
     "data": {
      "text/html": [
       "<style>#sk-container-id-2 {color: black;background-color: white;}#sk-container-id-2 pre{padding: 0;}#sk-container-id-2 div.sk-toggleable {background-color: white;}#sk-container-id-2 label.sk-toggleable__label {cursor: pointer;display: block;width: 100%;margin-bottom: 0;padding: 0.3em;box-sizing: border-box;text-align: center;}#sk-container-id-2 label.sk-toggleable__label-arrow:before {content: \"▸\";float: left;margin-right: 0.25em;color: #696969;}#sk-container-id-2 label.sk-toggleable__label-arrow:hover:before {color: black;}#sk-container-id-2 div.sk-estimator:hover label.sk-toggleable__label-arrow:before {color: black;}#sk-container-id-2 div.sk-toggleable__content {max-height: 0;max-width: 0;overflow: hidden;text-align: left;background-color: #f0f8ff;}#sk-container-id-2 div.sk-toggleable__content pre {margin: 0.2em;color: black;border-radius: 0.25em;background-color: #f0f8ff;}#sk-container-id-2 input.sk-toggleable__control:checked~div.sk-toggleable__content {max-height: 200px;max-width: 100%;overflow: auto;}#sk-container-id-2 input.sk-toggleable__control:checked~label.sk-toggleable__label-arrow:before {content: \"▾\";}#sk-container-id-2 div.sk-estimator input.sk-toggleable__control:checked~label.sk-toggleable__label {background-color: #d4ebff;}#sk-container-id-2 div.sk-label input.sk-toggleable__control:checked~label.sk-toggleable__label {background-color: #d4ebff;}#sk-container-id-2 input.sk-hidden--visually {border: 0;clip: rect(1px 1px 1px 1px);clip: rect(1px, 1px, 1px, 1px);height: 1px;margin: -1px;overflow: hidden;padding: 0;position: absolute;width: 1px;}#sk-container-id-2 div.sk-estimator {font-family: monospace;background-color: #f0f8ff;border: 1px dotted black;border-radius: 0.25em;box-sizing: border-box;margin-bottom: 0.5em;}#sk-container-id-2 div.sk-estimator:hover {background-color: #d4ebff;}#sk-container-id-2 div.sk-parallel-item::after {content: \"\";width: 100%;border-bottom: 1px solid gray;flex-grow: 1;}#sk-container-id-2 div.sk-label:hover label.sk-toggleable__label {background-color: #d4ebff;}#sk-container-id-2 div.sk-serial::before {content: \"\";position: absolute;border-left: 1px solid gray;box-sizing: border-box;top: 0;bottom: 0;left: 50%;z-index: 0;}#sk-container-id-2 div.sk-serial {display: flex;flex-direction: column;align-items: center;background-color: white;padding-right: 0.2em;padding-left: 0.2em;position: relative;}#sk-container-id-2 div.sk-item {position: relative;z-index: 1;}#sk-container-id-2 div.sk-parallel {display: flex;align-items: stretch;justify-content: center;background-color: white;position: relative;}#sk-container-id-2 div.sk-item::before, #sk-container-id-2 div.sk-parallel-item::before {content: \"\";position: absolute;border-left: 1px solid gray;box-sizing: border-box;top: 0;bottom: 0;left: 50%;z-index: -1;}#sk-container-id-2 div.sk-parallel-item {display: flex;flex-direction: column;z-index: 1;position: relative;background-color: white;}#sk-container-id-2 div.sk-parallel-item:first-child::after {align-self: flex-end;width: 50%;}#sk-container-id-2 div.sk-parallel-item:last-child::after {align-self: flex-start;width: 50%;}#sk-container-id-2 div.sk-parallel-item:only-child::after {width: 0;}#sk-container-id-2 div.sk-dashed-wrapped {border: 1px dashed gray;margin: 0 0.4em 0.5em 0.4em;box-sizing: border-box;padding-bottom: 0.4em;background-color: white;}#sk-container-id-2 div.sk-label label {font-family: monospace;font-weight: bold;display: inline-block;line-height: 1.2em;}#sk-container-id-2 div.sk-label-container {text-align: center;}#sk-container-id-2 div.sk-container {/* jupyter's `normalize.less` sets `[hidden] { display: none; }` but bootstrap.min.css set `[hidden] { display: none !important; }` so we also need the `!important` here to be able to override the default hidden behavior on the sphinx rendered scikit-learn.org. See: https://github.com/scikit-learn/scikit-learn/issues/21755 */display: inline-block !important;position: relative;}#sk-container-id-2 div.sk-text-repr-fallback {display: none;}</style><div id=\"sk-container-id-2\" class=\"sk-top-container\"><div class=\"sk-text-repr-fallback\"><pre>RandomForestRegressor(max_depth=5)</pre><b>In a Jupyter environment, please rerun this cell to show the HTML representation or trust the notebook. <br />On GitHub, the HTML representation is unable to render, please try loading this page with nbviewer.org.</b></div><div class=\"sk-container\" hidden><div class=\"sk-item\"><div class=\"sk-estimator sk-toggleable\"><input class=\"sk-toggleable__control sk-hidden--visually\" id=\"sk-estimator-id-2\" type=\"checkbox\" checked><label for=\"sk-estimator-id-2\" class=\"sk-toggleable__label sk-toggleable__label-arrow\">RandomForestRegressor</label><div class=\"sk-toggleable__content\"><pre>RandomForestRegressor(max_depth=5)</pre></div></div></div></div></div>"
      ],
      "text/plain": [
       "RandomForestRegressor(max_depth=5)"
      ]
     },
     "execution_count": 12,
     "metadata": {},
     "output_type": "execute_result"
    }
   ],
   "source": [
    "# Just replace ___ with the numbers you found from Milestone3-task4.ipynb\n",
    "model = RandomForestRegressor(n_estimators=100, max_depth=5, random_state = 123)\n",
    "model.fit(X_train, y_train)"
   ]
  },
  {
   "cell_type": "code",
   "execution_count": 13,
   "metadata": {},
   "outputs": [
    {
     "name": "stdout",
     "output_type": "stream",
     "text": [
      "Train RMSE: 8.11\n",
      " Test RMSE: 7.81\n"
     ]
    }
   ],
   "source": [
    "print(f\"Train RMSE: {mean_squared_error(y_train, model.predict(X_train), squared=False):.2f}\")\n",
    "print(f\" Test RMSE: {mean_squared_error(y_test, model.predict(X_test), squared=False):.2f}\")"
   ]
  },
  {
   "cell_type": "code",
   "execution_count": 14,
   "metadata": {},
   "outputs": [
    {
     "data": {
      "text/plain": [
       "['model.joblib']"
      ]
     },
     "execution_count": 14,
     "metadata": {},
     "output_type": "execute_result"
    }
   ],
   "source": [
    "# ready to deploy\n",
    "# where this model is saved? Understand the concept of relative path.\n",
    "dump(model, \"model.joblib\")"
   ]
  },
  {
   "cell_type": "markdown",
   "metadata": {},
   "source": [
    "***Upload model.joblib to s3 under output folder. You choose how you want to upload it (using CLI, SDK, or web console).*** Web console is also completely fine as it is a small file."
   ]
  }
 ],
 "metadata": {
  "kernelspec": {
   "display_name": "Python [conda env:525_2023]",
   "language": "python",
   "name": "conda-env-525_2023-py"
  },
  "language_info": {
   "codemirror_mode": {
    "name": "ipython",
    "version": 3
   },
   "file_extension": ".py",
   "mimetype": "text/x-python",
   "name": "python",
   "nbconvert_exporter": "python",
   "pygments_lexer": "ipython3",
   "version": "3.9.16"
  },
  "vscode": {
   "interpreter": {
    "hash": "04169164d22e6c4be6191ef423ac86bcd59ab6849083682d987cca79592811e3"
   }
  }
 },
 "nbformat": 4,
 "nbformat_minor": 4
}
